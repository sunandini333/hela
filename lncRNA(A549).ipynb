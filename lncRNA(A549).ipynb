{
  "nbformat": 4,
  "nbformat_minor": 0,
  "metadata": {
    "colab": {
      "provenance": [],
      "machine_shape": "hm",
      "gpuType": "T4",
      "authorship_tag": "ABX9TyMrRfB+QIuDcF9ppjJkrIaC",
      "include_colab_link": true
    },
    "kernelspec": {
      "name": "python3",
      "display_name": "Python 3"
    },
    "language_info": {
      "name": "python"
    },
    "accelerator": "GPU"
  },
  "cells": [
    {
      "cell_type": "markdown",
      "metadata": {
        "id": "view-in-github",
        "colab_type": "text"
      },
      "source": [
        "<a href=\"https://colab.research.google.com/github/sunandini333/hela/blob/main/lncRNA(A549).ipynb\" target=\"_parent\"><img src=\"https://colab.research.google.com/assets/colab-badge.svg\" alt=\"Open In Colab\"/></a>"
      ]
    },
    {
      "cell_type": "code",
      "execution_count": null,
      "metadata": {
        "colab": {
          "base_uri": "https://localhost:8080/"
        },
        "id": "_MSPqDn3uh5l",
        "outputId": "5774f3c3-6657-4d98-814d-56cf59f3828a"
      },
      "outputs": [
        {
          "output_type": "stream",
          "name": "stdout",
          "text": [
            "--2024-11-21 06:37:01--  https://repo.anaconda.com/miniconda/Miniconda3-py37_4.8.2-Linux-x86_64.sh\n",
            "Resolving repo.anaconda.com (repo.anaconda.com)... 104.16.32.241, 104.16.191.158, 2606:4700::6810:20f1, ...\n",
            "Connecting to repo.anaconda.com (repo.anaconda.com)|104.16.32.241|:443... connected.\n",
            "HTTP request sent, awaiting response... 200 OK\n",
            "Length: 85055499 (81M) [application/x-sh]\n",
            "Saving to: ‘Miniconda3-py37_4.8.2-Linux-x86_64.sh’\n",
            "\n",
            "Miniconda3-py37_4.8 100%[===================>]  81.12M  59.7MB/s    in 1.4s    \n",
            "\n",
            "2024-11-21 06:37:02 (59.7 MB/s) - ‘Miniconda3-py37_4.8.2-Linux-x86_64.sh’ saved [85055499/85055499]\n",
            "\n",
            "PREFIX=/usr/local\n",
            "Unpacking payload ...\n",
            "Collecting package metadata (current_repodata.json): - \b\b\\ \b\bdone\n",
            "Solving environment: / \b\b- \b\bdone\n",
            "\n",
            "## Package Plan ##\n",
            "\n",
            "  environment location: /usr/local\n",
            "\n",
            "  added / updated specs:\n",
            "    - _libgcc_mutex==0.1=main\n",
            "    - asn1crypto==1.3.0=py37_0\n",
            "    - ca-certificates==2020.1.1=0\n",
            "    - certifi==2019.11.28=py37_0\n",
            "    - cffi==1.14.0=py37h2e261b9_0\n",
            "    - chardet==3.0.4=py37_1003\n",
            "    - conda-package-handling==1.6.0=py37h7b6447c_0\n",
            "    - conda==4.8.2=py37_0\n",
            "    - cryptography==2.8=py37h1ba5d50_0\n",
            "    - idna==2.8=py37_0\n",
            "    - ld_impl_linux-64==2.33.1=h53a641e_7\n",
            "    - libedit==3.1.20181209=hc058e9b_0\n",
            "    - libffi==3.2.1=hd88cf55_4\n",
            "    - libgcc-ng==9.1.0=hdf63c60_0\n",
            "    - libstdcxx-ng==9.1.0=hdf63c60_0\n",
            "    - ncurses==6.2=he6710b0_0\n",
            "    - openssl==1.1.1d=h7b6447c_4\n",
            "    - pip==20.0.2=py37_1\n",
            "    - pycosat==0.6.3=py37h7b6447c_0\n",
            "    - pycparser==2.19=py37_0\n",
            "    - pyopenssl==19.1.0=py37_0\n",
            "    - pysocks==1.7.1=py37_0\n",
            "    - python==3.7.6=h0371630_2\n",
            "    - readline==7.0=h7b6447c_5\n",
            "    - requests==2.22.0=py37_1\n",
            "    - ruamel_yaml==0.15.87=py37h7b6447c_0\n",
            "    - setuptools==45.2.0=py37_0\n",
            "    - six==1.14.0=py37_0\n",
            "    - sqlite==3.31.1=h7b6447c_0\n",
            "    - tk==8.6.8=hbc83047_0\n",
            "    - tqdm==4.42.1=py_0\n",
            "    - urllib3==1.25.8=py37_0\n",
            "    - wheel==0.34.2=py37_0\n",
            "    - xz==5.2.4=h14c3975_4\n",
            "    - yaml==0.1.7=had09818_2\n",
            "    - zlib==1.2.11=h7b6447c_3\n",
            "\n",
            "\n",
            "The following NEW packages will be INSTALLED:\n",
            "\n",
            "  _libgcc_mutex      pkgs/main/linux-64::_libgcc_mutex-0.1-main\n",
            "  asn1crypto         pkgs/main/linux-64::asn1crypto-1.3.0-py37_0\n",
            "  ca-certificates    pkgs/main/linux-64::ca-certificates-2020.1.1-0\n",
            "  certifi            pkgs/main/linux-64::certifi-2019.11.28-py37_0\n",
            "  cffi               pkgs/main/linux-64::cffi-1.14.0-py37h2e261b9_0\n",
            "  chardet            pkgs/main/linux-64::chardet-3.0.4-py37_1003\n",
            "  conda              pkgs/main/linux-64::conda-4.8.2-py37_0\n",
            "  conda-package-han~ pkgs/main/linux-64::conda-package-handling-1.6.0-py37h7b6447c_0\n",
            "  cryptography       pkgs/main/linux-64::cryptography-2.8-py37h1ba5d50_0\n",
            "  idna               pkgs/main/linux-64::idna-2.8-py37_0\n",
            "  ld_impl_linux-64   pkgs/main/linux-64::ld_impl_linux-64-2.33.1-h53a641e_7\n",
            "  libedit            pkgs/main/linux-64::libedit-3.1.20181209-hc058e9b_0\n",
            "  libffi             pkgs/main/linux-64::libffi-3.2.1-hd88cf55_4\n",
            "  libgcc-ng          pkgs/main/linux-64::libgcc-ng-9.1.0-hdf63c60_0\n",
            "  libstdcxx-ng       pkgs/main/linux-64::libstdcxx-ng-9.1.0-hdf63c60_0\n",
            "  ncurses            pkgs/main/linux-64::ncurses-6.2-he6710b0_0\n",
            "  openssl            pkgs/main/linux-64::openssl-1.1.1d-h7b6447c_4\n",
            "  pip                pkgs/main/linux-64::pip-20.0.2-py37_1\n",
            "  pycosat            pkgs/main/linux-64::pycosat-0.6.3-py37h7b6447c_0\n",
            "  pycparser          pkgs/main/linux-64::pycparser-2.19-py37_0\n",
            "  pyopenssl          pkgs/main/linux-64::pyopenssl-19.1.0-py37_0\n",
            "  pysocks            pkgs/main/linux-64::pysocks-1.7.1-py37_0\n",
            "  python             pkgs/main/linux-64::python-3.7.6-h0371630_2\n",
            "  readline           pkgs/main/linux-64::readline-7.0-h7b6447c_5\n",
            "  requests           pkgs/main/linux-64::requests-2.22.0-py37_1\n",
            "  ruamel_yaml        pkgs/main/linux-64::ruamel_yaml-0.15.87-py37h7b6447c_0\n",
            "  setuptools         pkgs/main/linux-64::setuptools-45.2.0-py37_0\n",
            "  six                pkgs/main/linux-64::six-1.14.0-py37_0\n",
            "  sqlite             pkgs/main/linux-64::sqlite-3.31.1-h7b6447c_0\n",
            "  tk                 pkgs/main/linux-64::tk-8.6.8-hbc83047_0\n",
            "  tqdm               pkgs/main/noarch::tqdm-4.42.1-py_0\n",
            "  urllib3            pkgs/main/linux-64::urllib3-1.25.8-py37_0\n",
            "  wheel              pkgs/main/linux-64::wheel-0.34.2-py37_0\n",
            "  xz                 pkgs/main/linux-64::xz-5.2.4-h14c3975_4\n",
            "  yaml               pkgs/main/linux-64::yaml-0.1.7-had09818_2\n",
            "  zlib               pkgs/main/linux-64::zlib-1.2.11-h7b6447c_3\n",
            "\n",
            "\n",
            "Preparing transaction: | \b\b/ \b\b- \b\bdone\n",
            "Executing transaction: | \b\b/ \b\b- \b\b\\ \b\b| \b\b/ \b\b- \b\b\\ \b\b| \b\b/ \b\b- \b\b\\ \b\b| \b\b/ \b\b- \b\bdone\n",
            "installation finished.\n",
            "WARNING:\n",
            "    You currently have a PYTHONPATH environment variable set. This may cause\n",
            "    unexpected behavior when running the Python interpreter in Miniconda3.\n",
            "    For best results, please verify that your PYTHONPATH only points to\n",
            "    directories of packages that are compatible with the Python interpreter\n",
            "    in Miniconda3: /usr/local\n"
          ]
        }
      ],
      "source": [
        "! wget https://repo.anaconda.com/miniconda/Miniconda3-py37_4.8.2-Linux-x86_64.sh\n",
        "! chmod +x Miniconda3-py37_4.8.2-Linux-x86_64.sh\n",
        "! bash ./Miniconda3-py37_4.8.2-Linux-x86_64.sh -b -f -p /usr/local\n",
        "import sys\n",
        "sys.path.append('/usr/local/lib/python3.7/site-packages/')"
      ]
    },
    {
      "cell_type": "code",
      "source": [
        "!pip install pandas openpyxl"
      ],
      "metadata": {
        "colab": {
          "base_uri": "https://localhost:8080/"
        },
        "id": "7cP-O2o_uz0-",
        "outputId": "574ff415-3f28-4e1a-d7b7-4661a392c2fe"
      },
      "execution_count": null,
      "outputs": [
        {
          "output_type": "stream",
          "name": "stdout",
          "text": [
            "Collecting pandas\n",
            "  Downloading pandas-1.3.5-cp37-cp37m-manylinux_2_17_x86_64.manylinux2014_x86_64.whl (11.3 MB)\n",
            "\u001b[K     |████████████████████████████████| 11.3 MB 19.2 MB/s \n",
            "\u001b[?25hCollecting openpyxl\n",
            "  Downloading openpyxl-3.1.3-py2.py3-none-any.whl (251 kB)\n",
            "\u001b[K     |████████████████████████████████| 251 kB 67.8 MB/s \n",
            "\u001b[?25hCollecting numpy>=1.17.3; platform_machine != \"aarch64\" and platform_machine != \"arm64\" and python_version < \"3.10\"\n",
            "  Downloading numpy-1.21.6-cp37-cp37m-manylinux_2_12_x86_64.manylinux2010_x86_64.whl (15.7 MB)\n",
            "\u001b[K     |████████████████████████████████| 15.7 MB 57.8 MB/s \n",
            "\u001b[?25hCollecting python-dateutil>=2.7.3\n",
            "  Downloading python_dateutil-2.9.0.post0-py2.py3-none-any.whl (229 kB)\n",
            "\u001b[K     |████████████████████████████████| 229 kB 82.8 MB/s \n",
            "\u001b[?25hCollecting pytz>=2017.3\n",
            "  Downloading pytz-2024.2-py2.py3-none-any.whl (508 kB)\n",
            "\u001b[K     |████████████████████████████████| 508 kB 69.1 MB/s \n",
            "\u001b[?25hCollecting et-xmlfile\n",
            "  Downloading et_xmlfile-1.1.0-py3-none-any.whl (4.7 kB)\n",
            "Requirement already satisfied: six>=1.5 in /usr/local/lib/python3.7/site-packages (from python-dateutil>=2.7.3->pandas) (1.14.0)\n",
            "Installing collected packages: numpy, python-dateutil, pytz, pandas, et-xmlfile, openpyxl\n",
            "Successfully installed et-xmlfile-1.1.0 numpy-1.21.6 openpyxl-3.1.3 pandas-1.3.5 python-dateutil-2.9.0.post0 pytz-2024.2\n"
          ]
        }
      ]
    },
    {
      "cell_type": "code",
      "source": [
        "import pandas as pd\n",
        "from sklearn.ensemble import RandomForestClassifier\n",
        "from sklearn.metrics import accuracy_score"
      ],
      "metadata": {
        "id": "VZelXd1su5SY"
      },
      "execution_count": null,
      "outputs": []
    },
    {
      "cell_type": "code",
      "source": [
        "import pandas as pd\n",
        "from sklearn.ensemble import RandomForestClassifier\n",
        "from sklearn.metrics import accuracy_score\n",
        "\n",
        "from google.colab import files\n",
        "import os\n",
        "\n",
        "# Upload files\n",
        "uploaded = files.upload()\n",
        "\n",
        "# Create the 'training' and 'testing' directories if they don't exist\n",
        "os.makedirs('/content/training', exist_ok=True)\n",
        "os.makedirs('/content/testing', exist_ok=True)\n",
        "\n",
        "# Move uploaded files to the appropriate directories\n",
        "# (This assumes you have separate training and testing files)\n",
        "for filename in uploaded.keys():\n",
        "  if 'train' in filename: #  Adjust the condition to match your file naming convention\n",
        "    os.rename(filename, f'/content/training/{filename}')\n",
        "  elif 'test' in filename: # Adjust the condition to match your file naming convention\n",
        "    os.rename(filename, f'/content/testing/{filename}')\n",
        "\n",
        "\n",
        "# List files in the directories\n",
        "print(\"Training files:\", os.listdir('/content/training'))\n",
        "print(\"Testing files:\", os.listdir('/content/testing'))"
      ],
      "metadata": {
        "colab": {
          "base_uri": "https://localhost:8080/",
          "height": 142
        },
        "id": "1tF4fKTpu6LO",
        "outputId": "d27db45b-ca94-4cbf-d719-3fcd206b7d0e"
      },
      "execution_count": null,
      "outputs": [
        {
          "output_type": "display_data",
          "data": {
            "text/plain": [
              "<IPython.core.display.HTML object>"
            ],
            "text/html": [
              "\n",
              "     <input type=\"file\" id=\"files-65b429d2-0820-4796-a6b7-aee7d2df9db5\" name=\"files[]\" multiple disabled\n",
              "        style=\"border:none\" />\n",
              "     <output id=\"result-65b429d2-0820-4796-a6b7-aee7d2df9db5\">\n",
              "      Upload widget is only available when the cell has been executed in the\n",
              "      current browser session. Please rerun this cell to enable.\n",
              "      </output>\n",
              "      <script>// Copyright 2017 Google LLC\n",
              "//\n",
              "// Licensed under the Apache License, Version 2.0 (the \"License\");\n",
              "// you may not use this file except in compliance with the License.\n",
              "// You may obtain a copy of the License at\n",
              "//\n",
              "//      http://www.apache.org/licenses/LICENSE-2.0\n",
              "//\n",
              "// Unless required by applicable law or agreed to in writing, software\n",
              "// distributed under the License is distributed on an \"AS IS\" BASIS,\n",
              "// WITHOUT WARRANTIES OR CONDITIONS OF ANY KIND, either express or implied.\n",
              "// See the License for the specific language governing permissions and\n",
              "// limitations under the License.\n",
              "\n",
              "/**\n",
              " * @fileoverview Helpers for google.colab Python module.\n",
              " */\n",
              "(function(scope) {\n",
              "function span(text, styleAttributes = {}) {\n",
              "  const element = document.createElement('span');\n",
              "  element.textContent = text;\n",
              "  for (const key of Object.keys(styleAttributes)) {\n",
              "    element.style[key] = styleAttributes[key];\n",
              "  }\n",
              "  return element;\n",
              "}\n",
              "\n",
              "// Max number of bytes which will be uploaded at a time.\n",
              "const MAX_PAYLOAD_SIZE = 100 * 1024;\n",
              "\n",
              "function _uploadFiles(inputId, outputId) {\n",
              "  const steps = uploadFilesStep(inputId, outputId);\n",
              "  const outputElement = document.getElementById(outputId);\n",
              "  // Cache steps on the outputElement to make it available for the next call\n",
              "  // to uploadFilesContinue from Python.\n",
              "  outputElement.steps = steps;\n",
              "\n",
              "  return _uploadFilesContinue(outputId);\n",
              "}\n",
              "\n",
              "// This is roughly an async generator (not supported in the browser yet),\n",
              "// where there are multiple asynchronous steps and the Python side is going\n",
              "// to poll for completion of each step.\n",
              "// This uses a Promise to block the python side on completion of each step,\n",
              "// then passes the result of the previous step as the input to the next step.\n",
              "function _uploadFilesContinue(outputId) {\n",
              "  const outputElement = document.getElementById(outputId);\n",
              "  const steps = outputElement.steps;\n",
              "\n",
              "  const next = steps.next(outputElement.lastPromiseValue);\n",
              "  return Promise.resolve(next.value.promise).then((value) => {\n",
              "    // Cache the last promise value to make it available to the next\n",
              "    // step of the generator.\n",
              "    outputElement.lastPromiseValue = value;\n",
              "    return next.value.response;\n",
              "  });\n",
              "}\n",
              "\n",
              "/**\n",
              " * Generator function which is called between each async step of the upload\n",
              " * process.\n",
              " * @param {string} inputId Element ID of the input file picker element.\n",
              " * @param {string} outputId Element ID of the output display.\n",
              " * @return {!Iterable<!Object>} Iterable of next steps.\n",
              " */\n",
              "function* uploadFilesStep(inputId, outputId) {\n",
              "  const inputElement = document.getElementById(inputId);\n",
              "  inputElement.disabled = false;\n",
              "\n",
              "  const outputElement = document.getElementById(outputId);\n",
              "  outputElement.innerHTML = '';\n",
              "\n",
              "  const pickedPromise = new Promise((resolve) => {\n",
              "    inputElement.addEventListener('change', (e) => {\n",
              "      resolve(e.target.files);\n",
              "    });\n",
              "  });\n",
              "\n",
              "  const cancel = document.createElement('button');\n",
              "  inputElement.parentElement.appendChild(cancel);\n",
              "  cancel.textContent = 'Cancel upload';\n",
              "  const cancelPromise = new Promise((resolve) => {\n",
              "    cancel.onclick = () => {\n",
              "      resolve(null);\n",
              "    };\n",
              "  });\n",
              "\n",
              "  // Wait for the user to pick the files.\n",
              "  const files = yield {\n",
              "    promise: Promise.race([pickedPromise, cancelPromise]),\n",
              "    response: {\n",
              "      action: 'starting',\n",
              "    }\n",
              "  };\n",
              "\n",
              "  cancel.remove();\n",
              "\n",
              "  // Disable the input element since further picks are not allowed.\n",
              "  inputElement.disabled = true;\n",
              "\n",
              "  if (!files) {\n",
              "    return {\n",
              "      response: {\n",
              "        action: 'complete',\n",
              "      }\n",
              "    };\n",
              "  }\n",
              "\n",
              "  for (const file of files) {\n",
              "    const li = document.createElement('li');\n",
              "    li.append(span(file.name, {fontWeight: 'bold'}));\n",
              "    li.append(span(\n",
              "        `(${file.type || 'n/a'}) - ${file.size} bytes, ` +\n",
              "        `last modified: ${\n",
              "            file.lastModifiedDate ? file.lastModifiedDate.toLocaleDateString() :\n",
              "                                    'n/a'} - `));\n",
              "    const percent = span('0% done');\n",
              "    li.appendChild(percent);\n",
              "\n",
              "    outputElement.appendChild(li);\n",
              "\n",
              "    const fileDataPromise = new Promise((resolve) => {\n",
              "      const reader = new FileReader();\n",
              "      reader.onload = (e) => {\n",
              "        resolve(e.target.result);\n",
              "      };\n",
              "      reader.readAsArrayBuffer(file);\n",
              "    });\n",
              "    // Wait for the data to be ready.\n",
              "    let fileData = yield {\n",
              "      promise: fileDataPromise,\n",
              "      response: {\n",
              "        action: 'continue',\n",
              "      }\n",
              "    };\n",
              "\n",
              "    // Use a chunked sending to avoid message size limits. See b/62115660.\n",
              "    let position = 0;\n",
              "    do {\n",
              "      const length = Math.min(fileData.byteLength - position, MAX_PAYLOAD_SIZE);\n",
              "      const chunk = new Uint8Array(fileData, position, length);\n",
              "      position += length;\n",
              "\n",
              "      const base64 = btoa(String.fromCharCode.apply(null, chunk));\n",
              "      yield {\n",
              "        response: {\n",
              "          action: 'append',\n",
              "          file: file.name,\n",
              "          data: base64,\n",
              "        },\n",
              "      };\n",
              "\n",
              "      let percentDone = fileData.byteLength === 0 ?\n",
              "          100 :\n",
              "          Math.round((position / fileData.byteLength) * 100);\n",
              "      percent.textContent = `${percentDone}% done`;\n",
              "\n",
              "    } while (position < fileData.byteLength);\n",
              "  }\n",
              "\n",
              "  // All done.\n",
              "  yield {\n",
              "    response: {\n",
              "      action: 'complete',\n",
              "    }\n",
              "  };\n",
              "}\n",
              "\n",
              "scope.google = scope.google || {};\n",
              "scope.google.colab = scope.google.colab || {};\n",
              "scope.google.colab._files = {\n",
              "  _uploadFiles,\n",
              "  _uploadFilesContinue,\n",
              "};\n",
              "})(self);\n",
              "</script> "
            ]
          },
          "metadata": {}
        },
        {
          "output_type": "stream",
          "name": "stdout",
          "text": [
            "Saving lncRNA-A549_training.xlsb to lncRNA-A549_training.xlsb\n",
            "Saving lncRNA-A549_testing.xlsb to lncRNA-A549_testing.xlsb\n",
            "Training files: ['lncRNA-A549_training.xlsb']\n",
            "Testing files: ['lncRNA-A549_testing.xlsb']\n"
          ]
        }
      ]
    },
    {
      "cell_type": "code",
      "source": [
        "! pip install pyxlsb"
      ],
      "metadata": {
        "colab": {
          "base_uri": "https://localhost:8080/"
        },
        "id": "ZCuXif6ahA3X",
        "outputId": "c5667413-e177-48e9-faf6-73fc609cbdac"
      },
      "execution_count": null,
      "outputs": [
        {
          "output_type": "stream",
          "name": "stdout",
          "text": [
            "Requirement already satisfied: pyxlsb in /usr/local/lib/python3.7/site-packages (1.0.10)\n"
          ]
        }
      ]
    },
    {
      "cell_type": "code",
      "source": [
        "import pandas as pd\n",
        "import numpy as np"
      ],
      "metadata": {
        "id": "MwIjdpgW0odC"
      },
      "execution_count": null,
      "outputs": []
    },
    {
      "cell_type": "code",
      "source": [
        "import pandas as pd\n",
        "import glob\n",
        "import pyxlsb\n",
        "\n",
        "# Dictionaries to store DataFrames for training and testing data\n",
        "training_data = {}\n",
        "testing_data = {}\n",
        "\n",
        "# Load training xlsb files\n",
        "for file_path in glob.glob('/content/training/lncRNA-*.xlsb'):\n",
        "    # Extract cell line name from file name\n",
        "    cell_line_name = file_path.split('-')[1].replace('.xlsb', '')\n",
        "    # Load CSV file into a DataFrame\n",
        "    # Use pyxlsb to read the xlsb file\n",
        "    with pyxlsb.open_workbook(file_path) as wb:\n",
        "        sheet_names = wb.sheets\n",
        "        # Assuming you want to read the first sheet\n",
        "        sheet_name = sheet_names[0]\n",
        "        with wb.get_sheet(sheet_name) as sheet:\n",
        "            data = []\n",
        "            for row in sheet.rows():\n",
        "                data.append([item.v for item in row])\n",
        "            training_data[cell_line_name] = pd.DataFrame(data[1:], columns=data[0])  # Skip header row\n",
        "\n",
        "# Load testing xlsb files\n",
        "for file_path in glob.glob('/content/testing/lncRNA-*.xlsb'):\n",
        "    cell_line_name = file_path.split('-')[1].replace('.xlsb', '')\n",
        "    # Use pyxlsb to read the xlsb file\n",
        "    with pyxlsb.open_workbook(file_path) as wb:\n",
        "        sheet_names = wb.sheets\n",
        "        # Assuming you want to read the first sheet\n",
        "        sheet_name = sheet_names[0]\n",
        "        with wb.get_sheet(sheet_name) as sheet:\n",
        "            data = []\n",
        "            for row in sheet.rows():\n",
        "                data.append([item.v for item in row])\n",
        "            testing_data[cell_line_name] = pd.DataFrame(data[1:], columns=data[0])  # Skip header row\n",
        "\n",
        "# Example: Display the first few rows of a specific cell line's data\n",
        "# Get the first cell line name from the training data\n",
        "example_cell_line_training = list(training_data.keys())[0]\n",
        "\n",
        "# Modify the example_cell_line_training to match the testing data key format\n",
        "example_cell_line_testing = example_cell_line_training.replace('_training', '_testing') # Assuming your testing files have '_testing' in their names\n",
        "\n",
        "\n",
        "print(f\"Training data for cell line {example_cell_line_training}:\")\n",
        "print(training_data[example_cell_line_training].head())\n",
        "\n",
        "print(f\"Testing data for cell line {example_cell_line_testing}:\")\n",
        "print(testing_data[example_cell_line_testing].head()) # Use the modified key to access testing data"
      ],
      "metadata": {
        "colab": {
          "base_uri": "https://localhost:8080/"
        },
        "id": "uWcr9-HKjXXm",
        "outputId": "ac753348-8c93-497d-c9d0-f8bce506d650"
      },
      "execution_count": null,
      "outputs": [
        {
          "output_type": "stream",
          "name": "stdout",
          "text": [
            "Training data for cell line A549_training:\n",
            "        ENSEMBL ID     Value  \\\n",
            "0  ENSG00000000003  1.080680   \n",
            "1  ENSG00000000003  1.080680   \n",
            "2  ENSG00000000419  1.326790   \n",
            "3  ENSG00000000419  1.326790   \n",
            "4  ENSG00000000457  0.434284   \n",
            "\n",
            "                                                code  \n",
            "0  GTCCCCGTCTCGGAGACTGCAGACTAAACCAGTCATTACTTGTTTC...  \n",
            "1  AGCTCTTCAGTAGTTTCTGAACATCTAGACGGTAGGATGTAGAATA...  \n",
            "2  GCTTCCGGCATCTGGCTCAGTTCCGCCATGGCCTCCTTGGAAGTCA...  \n",
            "3  GATCTCTCACACCATCCAAAATTTATTCCTGAATTTATTAGGAAGC...  \n",
            "4  TTTCCGGACCCGTCTCTATGGTGTAGGAGAAACCCGGCCCCCAGAA...  \n",
            "Testing data for cell line A549_testing:\n",
            "        ENSEMBL ID     Value  \\\n",
            "0  ENSG00000004866  0.497358   \n",
            "1  ENSG00000004866  0.497358   \n",
            "2  ENSG00000004866  0.497358   \n",
            "3  ENSG00000004866  0.497358   \n",
            "4  ENSG00000004866  0.497358   \n",
            "\n",
            "                                                code  \n",
            "0  GACGTCATCCAGCGTATGCATAAGCCCTGCTATTGTCTTACTGCTA...  \n",
            "1  GTCTTACTGCTACAGCAGGGCTGGGGATTGCAGTATCCGCTGTTGC...  \n",
            "2  GTTGCTGCTGCTCCCAGTCCTGCCCCTGCTGCTACCTAGTCCAGCC...  \n",
            "3  CGGGGACTCAGATTCCAATAGGCAAAGTGTCTCAGAATGCAAAGTA...  \n",
            "4  TCTTGAGGGTTGAGCTGCAGCCACTGAAGATTGTGGAAAAACATGC...  \n"
          ]
        }
      ]
    },
    {
      "cell_type": "code",
      "source": [
        "def calculate_cksnap(sequence, k=1):\n",
        "    nucleotides = ['A', 'T', 'C', 'G']\n",
        "    cksnap_features = {}\n",
        "\n",
        "    # Generate all possible pairs for the given spacing\n",
        "    pairs = [(a, b) for a in nucleotides for b in nucleotides]\n",
        "\n",
        "    # Initialize counts for each pair\n",
        "    for pair in pairs:\n",
        "        cksnap_features[f'{pair[0]}_{pair[1]}_{k}'] = 0\n",
        "\n",
        "    # Count occurrences of k-spaced pairs\n",
        "    for i in range(len(sequence) - k - 1):\n",
        "        pair = (sequence[i], sequence[i + k + 1])\n",
        "        if pair in pairs:\n",
        "            cksnap_features[f'{pair[0]}_{pair[1]}_{k}'] += 1\n",
        "\n",
        "    # Convert counts to frequencies\n",
        "    total_pairs = sum(cksnap_features.values())\n",
        "    if total_pairs > 0:\n",
        "        for key in cksnap_features:\n",
        "            cksnap_features[key] /= total_pairs\n",
        "\n",
        "    return cksnap_features\n"
      ],
      "metadata": {
        "id": "wTRZHkqV0rvD"
      },
      "execution_count": null,
      "outputs": []
    },
    {
      "cell_type": "code",
      "source": [
        "# Sample dictionary with properties (replace these with actual values)\n",
        "dinucleotide_properties = {\n",
        "    'AA': 1.0, 'AT': 0.9, 'AC': 1.2, 'AG': 1.1,\n",
        "    'TA': 0.8, 'TT': 1.0, 'TC': 1.3, 'TG': 1.1,\n",
        "    'CA': 1.2, 'CT': 0.9, 'CC': 1.1, 'CG': 1.4,\n",
        "    'GA': 1.1, 'GT': 1.2, 'GC': 0.9, 'GG': 1.0\n",
        "}\n",
        "\n",
        "def calculate_dpcp(sequence):\n",
        "    dpcp_features = {}\n",
        "\n",
        "    # Loop through the sequence to find dinucleotide pairs\n",
        "    for i in range(len(sequence) - 1):\n",
        "        dinucleotide = sequence[i:i + 2]\n",
        "        if dinucleotide in dinucleotide_properties:\n",
        "            dpcp_features[dinucleotide] = dinucleotide_properties[dinucleotide]\n",
        "\n",
        "    return dpcp_features\n"
      ],
      "metadata": {
        "id": "wdzh7wkx0w7H"
      },
      "execution_count": null,
      "outputs": []
    },
    {
      "cell_type": "code",
      "source": [
        "# Example for processing all cell lines in the training data\n",
        "for cell_line, df in training_data.items():\n",
        "    # Initialize lists to store feature dictionaries for each sequence\n",
        "    cksnap_list = []\n",
        "    dpcp_list = []\n",
        "\n",
        "    for sequence in df['code']:  # Using 'code' column as the sequence column\n",
        "        # Calculate CKSNAP and DPCP for each sequence\n",
        "        cksnap_features = calculate_cksnap(sequence, k=1)  # Adjust k if needed\n",
        "        dpcp_features = calculate_dpcp(sequence)\n",
        "\n",
        "        # Append feature dictionaries\n",
        "        cksnap_list.append(cksnap_features)\n",
        "        dpcp_list.append(dpcp_features)\n",
        "\n",
        "    # Add new feature columns to DataFrame\n",
        "    df = df.assign(**pd.DataFrame(cksnap_list))  # Adds CKSNAP features\n",
        "    df = df.assign(**pd.DataFrame(dpcp_list))    # Adds DPCP features\n",
        "\n",
        "    # Update the DataFrame in the dictionary\n",
        "    training_data[cell_line] = df\n",
        "\n",
        "# Display example results for one cell line\n",
        "print(training_data['A549_training'].head())"
      ],
      "metadata": {
        "colab": {
          "base_uri": "https://localhost:8080/"
        },
        "id": "cDhINZdJjsOZ",
        "outputId": "04b3770c-99d5-4e0c-bde8-b5d1e42de89f"
      },
      "execution_count": null,
      "outputs": [
        {
          "output_type": "stream",
          "name": "stdout",
          "text": [
            "        ENSEMBL ID     Value  \\\n",
            "0  ENSG00000000003  1.080680   \n",
            "1  ENSG00000000003  1.080680   \n",
            "2  ENSG00000000419  1.326790   \n",
            "3  ENSG00000000419  1.326790   \n",
            "4  ENSG00000000457  0.434284   \n",
            "\n",
            "                                                code     A_A_1     A_T_1  \\\n",
            "0  GTCCCCGTCTCGGAGACTGCAGACTAAACCAGTCATTACTTGTTTC...  0.067449  0.058651   \n",
            "1  AGCTCTTCAGTAGTTTCTGAACATCTAGACGGTAGGATGTAGAATA...  0.091687  0.072127   \n",
            "2  GCTTCCGGCATCTGGCTCAGTTCCGCCATGGCCTCCTTGGAAGTCA...  0.106849  0.090411   \n",
            "3  GATCTCTCACACCATCCAAAATTTATTCCTGAATTTATTAGGAAGC...  0.099111  0.095299   \n",
            "4  TTTCCGGACCCGTCTCTATGGTGTAGGAGAAACCCGGCCCCCAGAA...  0.073568  0.060547   \n",
            "\n",
            "      A_C_1     A_G_1     T_A_1     T_T_1     T_C_1  ...   GA   AG   AC   TG  \\\n",
            "0  0.044966  0.062561  0.060606  0.078201  0.055718  ...  1.1  1.1  1.2  1.1   \n",
            "1  0.042787  0.059902  0.059902  0.090465  0.066015  ...  1.1  1.1  1.2  1.1   \n",
            "2  0.044749  0.071233  0.082192  0.107763  0.055708  ...  1.1  1.1  1.2  1.1   \n",
            "3  0.040661  0.068615  0.094028  0.120712  0.052097  ...  1.1  1.1  1.2  1.1   \n",
            "4  0.052083  0.056641  0.060547  0.087240  0.069661  ...  1.1  1.1  1.2  1.1   \n",
            "\n",
            "    GC   CA   TA   AA   AT   TT  \n",
            "0  0.9  1.2  0.8  1.0  0.9  1.0  \n",
            "1  0.9  1.2  0.8  1.0  0.9  1.0  \n",
            "2  0.9  1.2  0.8  1.0  0.9  1.0  \n",
            "3  0.9  1.2  0.8  1.0  0.9  1.0  \n",
            "4  0.9  1.2  0.8  1.0  0.9  1.0  \n",
            "\n",
            "[5 rows x 35 columns]\n"
          ]
        }
      ]
    },
    {
      "cell_type": "code",
      "source": [
        "def calculate_pseknc(sequence, k=2):\n",
        "    nucleotides = ['A', 'T', 'C', 'G']\n",
        "    pseknc_features = {}\n",
        "\n",
        "    # Generate all possible K-tuples\n",
        "    k_tuples = [''.join(t) for t in product(nucleotides, repeat=k)]\n",
        "\n",
        "    # Initialize count for each K-tuple\n",
        "    for k_tuple in k_tuples:\n",
        "        pseknc_features[f'PseKNC_{k_tuple}'] = 0\n",
        "\n",
        "    # Count occurrences of each K-tuple\n",
        "    for i in range(len(sequence) - k + 1):\n",
        "        k_tuple = sequence[i:i + k]\n",
        "        if k_tuple in k_tuples:\n",
        "            pseknc_features[f'PseKNC_{k_tuple}'] += 1\n",
        "\n",
        "    # Convert counts to frequencies\n",
        "    total_k_tuples = sum(pseknc_features.values())\n",
        "    if total_k_tuples > 0:\n",
        "        for key in pseknc_features:\n",
        "            pseknc_features[key] /= total_k_tuples\n",
        "\n",
        "    return pseknc_features\n"
      ],
      "metadata": {
        "id": "sY-MSnkR1APb"
      },
      "execution_count": null,
      "outputs": []
    },
    {
      "cell_type": "code",
      "source": [
        "from itertools import product\n",
        "\n",
        "def calculate_xmer_k_spaced_ymer(sequence, x=1, k=2, y=1):\n",
        "    nucleotides = ['A', 'T', 'C', 'G']\n",
        "    xmer_ymer_features = {}\n",
        "\n",
        "    # Generate all possible X-mer and Y-mer combinations\n",
        "    xmers = [''.join(t) for t in product(nucleotides, repeat=x)]\n",
        "    ymers = [''.join(t) for t in product(nucleotides, repeat=y)]\n",
        "\n",
        "    # Initialize counts for each X-mer, K-spaced, Y-mer pair\n",
        "    for xmer in xmers:\n",
        "        for ymer in ymers:\n",
        "            xmer_ymer_features[f'{xmer}_{k}_spaced_{ymer}'] = 0\n",
        "\n",
        "    # Count occurrences of each X-mer K-spaced Y-mer pair\n",
        "    for i in range(len(sequence) - k - max(x, y)):\n",
        "        xmer = sequence[i:i + x]\n",
        "        ymer = sequence[i + k + x:i + k + x + y]\n",
        "        if xmer in xmers and ymer in ymers:\n",
        "            xmer_ymer_features[f'{xmer}_{k}_spaced_{ymer}'] += 1\n",
        "\n",
        "    # Convert counts to frequencies\n",
        "    total_pairs = sum(xmer_ymer_features.values())\n",
        "    if total_pairs > 0:\n",
        "        for key in xmer_ymer_features:\n",
        "            xmer_ymer_features[key] /= total_pairs\n",
        "\n",
        "    return xmer_ymer_features\n"
      ],
      "metadata": {
        "id": "nqDVHId41FGg"
      },
      "execution_count": null,
      "outputs": []
    },
    {
      "cell_type": "code",
      "source": [
        "# Example for processing all cell lines in the training data\n",
        "for cell_line, df in training_data.items():\n",
        "    # Initialize lists to store feature dictionaries for each sequence\n",
        "    pseknc_list = []\n",
        "    xmer_k_spaced_ymer_list = []\n",
        "\n",
        "    for sequence in df['code']:  # Using 'code' column as the sequence column\n",
        "        # Calculate PseKNC and X-mer K-spaced Y-mer features\n",
        "        pseknc_features = calculate_pseknc(sequence, k=2)  # Adjust k as needed\n",
        "        xmer_k_spaced_ymer_features = calculate_xmer_k_spaced_ymer(sequence, x=1, k=2, y=1)  # Adjust x, k, y as needed\n",
        "\n",
        "        # Append feature dictionaries\n",
        "        pseknc_list.append(pseknc_features)\n",
        "        xmer_k_spaced_ymer_list.append(xmer_k_spaced_ymer_features)\n",
        "\n",
        "    # Add new feature columns to DataFrame\n",
        "    df = df.assign(**pd.DataFrame(pseknc_list))              # Adds PseKNC features\n",
        "    df = df.assign(**pd.DataFrame(xmer_k_spaced_ymer_list))  # Adds X-mer K-spaced Y-mer features\n",
        "\n",
        "    # Update the DataFrame in the dictionary\n",
        "    training_data[cell_line] = df\n",
        "\n",
        "# Display example results for one cell line\n",
        "print(training_data['A549_training'].head())"
      ],
      "metadata": {
        "colab": {
          "base_uri": "https://localhost:8080/"
        },
        "id": "V73yLzl1kJCx",
        "outputId": "839358a7-6677-4b82-d749-28b9e65a2606"
      },
      "execution_count": null,
      "outputs": [
        {
          "output_type": "stream",
          "name": "stdout",
          "text": [
            "        ENSEMBL ID     Value  \\\n",
            "0  ENSG00000000003  1.080680   \n",
            "1  ENSG00000000003  1.080680   \n",
            "2  ENSG00000000419  1.326790   \n",
            "3  ENSG00000000419  1.326790   \n",
            "4  ENSG00000000457  0.434284   \n",
            "\n",
            "                                                code     A_A_1     A_T_1  \\\n",
            "0  GTCCCCGTCTCGGAGACTGCAGACTAAACCAGTCATTACTTGTTTC...  0.067449  0.058651   \n",
            "1  AGCTCTTCAGTAGTTTCTGAACATCTAGACGGTAGGATGTAGAATA...  0.091687  0.072127   \n",
            "2  GCTTCCGGCATCTGGCTCAGTTCCGCCATGGCCTCCTTGGAAGTCA...  0.106849  0.090411   \n",
            "3  GATCTCTCACACCATCCAAAATTTATTCCTGAATTTATTAGGAAGC...  0.099111  0.095299   \n",
            "4  TTTCCGGACCCGTCTCTATGGTGTAGGAGAAACCCGGCCCCCAGAA...  0.073568  0.060547   \n",
            "\n",
            "      A_C_1     A_G_1     T_A_1     T_T_1     T_C_1  ...  T_2_spaced_C  \\\n",
            "0  0.044966  0.062561  0.060606  0.078201  0.055718  ...      0.052838   \n",
            "1  0.042787  0.059902  0.059902  0.090465  0.066015  ...      0.056304   \n",
            "2  0.044749  0.071233  0.082192  0.107763  0.055708  ...      0.044790   \n",
            "3  0.040661  0.068615  0.094028  0.120712  0.052097  ...      0.053435   \n",
            "4  0.052083  0.056641  0.060547  0.087240  0.069661  ...      0.072964   \n",
            "\n",
            "   T_2_spaced_G  C_2_spaced_A  C_2_spaced_T  C_2_spaced_C  C_2_spaced_G  \\\n",
            "0      0.067515      0.049902      0.060665      0.045988      0.062622   \n",
            "1      0.068543      0.039168      0.075887      0.044064      0.036720   \n",
            "2      0.054845      0.047532      0.033821      0.036563      0.043876   \n",
            "3      0.054707      0.043257      0.036896      0.027990      0.048346   \n",
            "4      0.056678      0.047557      0.061238      0.061238      0.057329   \n",
            "\n",
            "   G_2_spaced_A  G_2_spaced_T  G_2_spaced_C  G_2_spaced_G  \n",
            "0      0.062622      0.066536      0.066536      0.090020  \n",
            "1      0.064871      0.052632      0.050184      0.079559  \n",
            "2      0.068556      0.053931      0.039305      0.055759  \n",
            "3      0.068702      0.061069      0.035623      0.045802  \n",
            "4      0.062541      0.070358      0.048208      0.069055  \n",
            "\n",
            "[5 rows x 67 columns]\n"
          ]
        }
      ]
    },
    {
      "cell_type": "code",
      "source": [
        "# Check for missing values in training features\n",
        "print(\"Missing values in training features:\")\n",
        "print(X_train.isnull().sum())\n",
        "\n",
        "# Check for missing values in testing features\n",
        "print(\"Missing values in testing features:\")\n",
        "print(X_test.isnull().sum())"
      ],
      "metadata": {
        "colab": {
          "base_uri": "https://localhost:8080/"
        },
        "id": "3gq-D6D4nQG6",
        "outputId": "b162d2c5-243d-4433-975d-efa7c4542c1a"
      },
      "execution_count": null,
      "outputs": [
        {
          "output_type": "stream",
          "name": "stdout",
          "text": [
            "Missing values in training features:\n",
            "A_A_1                                                                                                                                                                                                                                                                                                                                                                                                                                                                                                                                                                                                                                                                                                                                                                                                                                                                                                                                                                                                                                                                                                                                                                                                                                                                                                                                                                                                                                                                                                                                                                                                                                                                                                                                                                                                                                                                                                                                                                                                                                                                                                                                                                                                                                                                                                                                                                                                                                                                                                                                                                                                                                                                                                                                                                                                                                                                                                                                                                                                                                                                                                                                                                                                                                                                                                                                                                                                                                                                                                                                                                                                                                                                                                                                                                                                                                                                                                                                                                                                                                                                                                                                                                                                                                                                                                                                                                                                                                                                                                                                                                                                                                                                                                                                                                                                                                                                                                                                                                                                                                                                                                                                                                                                                                                                                                                                                                                                                                                                                                                                                                                                                                                                                                                                                                                                                                                                                                                                                                                                                                                                                                                                                                                                                                                                                                                                                                                                                                                                                                                                                                                                                                                                                                 0\n",
            "A_T_1                                                                                                                                                                                                                                                                                                                                                                                                                                                                                                                                                                                                                                                                                                                                                                                                                                                                                                                                                                                                                                                                                                                                                                                                                                                                                                                                                                                                                                                                                                                                                                                                                                                                                                                                                                                                                                                                                                                                                                                                                                                                                                                                                                                                                                                                                                                                                                                                                                                                                                                                                                                                                                                                                                                                                                                                                                                                                                                                                                                                                                                                                                                                                                                                                                                                                                                                                                                                                                                                                                                                                                                                                                                                                                                                                                                                                                                                                                                                                                                                                                                                                                                                                                                                                                                                                                                                                                                                                                                                                                                                                                                                                                                                                                                                                                                                                                                                                                                                                                                                                                                                                                                                                                                                                                                                                                                                                                                                                                                                                                                                                                                                                                                                                                                                                                                                                                                                                                                                                                                                                                                                                                                                                                                                                                                                                                                                                                                                                                                                                                                                                                                                                                                                                                 0\n",
            "A_C_1                                                                                                                                                                                                                                                                                                                                                                                                                                                                                                                                                                                                                                                                                                                                                                                                                                                                                                                                                                                                                                                                                                                                                                                                                                                                                                                                                                                                                                                                                                                                                                                                                                                                                                                                                                                                                                                                                                                                                                                                                                                                                                                                                                                                                                                                                                                                                                                                                                                                                                                                                                                                                                                                                                                                                                                                                                                                                                                                                                                                                                                                                                                                                                                                                                                                                                                                                                                                                                                                                                                                                                                                                                                                                                                                                                                                                                                                                                                                                                                                                                                                                                                                                                                                                                                                                                                                                                                                                                                                                                                                                                                                                                                                                                                                                                                                                                                                                                                                                                                                                                                                                                                                                                                                                                                                                                                                                                                                                                                                                                                                                                                                                                                                                                                                                                                                                                                                                                                                                                                                                                                                                                                                                                                                                                                                                                                                                                                                                                                                                                                                                                                                                                                                                                 0\n",
            "A_G_1                                                                                                                                                                                                                                                                                                                                                                                                                                                                                                                                                                                                                                                                                                                                                                                                                                                                                                                                                                                                                                                                                                                                                                                                                                                                                                                                                                                                                                                                                                                                                                                                                                                                                                                                                                                                                                                                                                                                                                                                                                                                                                                                                                                                                                                                                                                                                                                                                                                                                                                                                                                                                                                                                                                                                                                                                                                                                                                                                                                                                                                                                                                                                                                                                                                                                                                                                                                                                                                                                                                                                                                                                                                                                                                                                                                                                                                                                                                                                                                                                                                                                                                                                                                                                                                                                                                                                                                                                                                                                                                                                                                                                                                                                                                                                                                                                                                                                                                                                                                                                                                                                                                                                                                                                                                                                                                                                                                                                                                                                                                                                                                                                                                                                                                                                                                                                                                                                                                                                                                                                                                                                                                                                                                                                                                                                                                                                                                                                                                                                                                                                                                                                                                                                                 0\n",
            "T_A_1                                                                                                                                                                                                                                                                                                                                                                                                                                                                                                                                                                                                                                                                                                                                                                                                                                                                                                                                                                                                                                                                                                                                                                                                                                                                                                                                                                                                                                                                                                                                                                                                                                                                                                                                                                                                                                                                                                                                                                                                                                                                                                                                                                                                                                                                                                                                                                                                                                                                                                                                                                                                                                                                                                                                                                                                                                                                                                                                                                                                                                                                                                                                                                                                                                                                                                                                                                                                                                                                                                                                                                                                                                                                                                                                                                                                                                                                                                                                                                                                                                                                                                                                                                                                                                                                                                                                                                                                                                                                                                                                                                                                                                                                                                                                                                                                                                                                                                                                                                                                                                                                                                                                                                                                                                                                                                                                                                                                                                                                                                                                                                                                                                                                                                                                                                                                                                                                                                                                                                                                                                                                                                                                                                                                                                                                                                                                                                                                                                                                                                                                                                                                                                                                                                 0\n",
            "                                                                                                                                                                                                                                                                                                                                                                                                                                                                                                                                                                                                                                                                                                                                                                                                                                                                                                                                                                                                                                                                                                                                                                                                                                                                                                                                                                                                                                                                                                                                                                                                                                                                                                                                                                                                                                                                                                                                                                                                                                                                                                                                                                                                                                                                                                                                                                                                                                                                                                                                                                                                                                                                                                                                                                                                                                                                                                                                                                                                                                                                                                                                                                                                                                                                                                                                                                                                                                                                                                                                                                                                                                                                                                                                                                                                                                                                                                                                                                                                                                                                                                                                                                                                                                                                                                                                                                                                                                                                                                                                                                                                                                                                                                                                                                                                                                                                                                                                                                                                                                                                                                                                                                                                                                                                                                                                                                                                                                                                                                                                                                                                                                                                                                                                                                                                                                                                                                                                                                                                                                                                                                                                                                                                                                                                                                                                                                                                                                                                                                                                                                                                                                                                                                     ..\n",
            "code_TTTTTTTTTTTTTTTTTTTTTTTTTCAGAGTATTTTCTTTCTTGTCCAGATTAGCTAAATTGGATTGTTCTATGCTAAATTCACTTAATCACTACTCTATTATTTTTGAATTTTTTAGTTCTGTTTTTTTCACTTGGTTCTTTTTTTAAAAAAACTTCTACTACCTTTCTGAGACTTCTACTTTTTTACTTTTTTCAAGAAGCTTTATAATTACTTGCTAAAGCATTTTTACCATGACTGTTTTTAACTTCTTCAGATAACCACAACATTTGGTTAATCTTGAGGTTGGCTTGGTTAACTGTCTTTTCTCATCCTGCTTATGATTTTCCTTCTAATTGTGATTTTTCCGGTTCTTGATAGATGGGTGATGTTTTAGTTTATCCTGCATTTTTTTTTCCTTTTTAAGTTAGAGGAATCTGAATCTATTCAAATGTTTTATTTTAGCAGGCATGTGCCCTGTTTAGGTTTAATTTGAATGTCCTGTCCTACTTTTGTAGGCCATGTTTTCGCAGGCAGTCTTGCTATCAGAGCTGAGGGGATGCTGTTTTGATCACTTAGTTTATCTGATGTTGCTGGGCCTCCAACTGGTGCTGACTGGTACTTCCTGAGATGGCGAAGGTTTTTCTGTACTCTGAGATGCCGTGTATCTCTATGTAAGGGGAGGAGACTCTGGACCACAGGAATGAAGAGAACATCTTAGGTCAGGCAGCTCAATCATATGCGATAACCTGGGTCAACCAGCCAGTAGCCTCATGAAGTATGGGAGGGAATTCTCCAGTGTCAGCATTCAAAGACATCATGAGTTTTTACTTCTCATTTTCTTTTAAGTGAAATAATCGCATGGAAATTAAAGAATAAATATATGAAATATATGAAACTTATATGAAATATAAGAATGTGAGAAGGCCTACAGCGTGGGGATCCCCAGGCTATTTGAACAATGAATGTCTGTGTTACACATCTTTGCTCACTTTTTCTCTATTTTTGTAGTTCATTGTGGAACCAGCACAGATTTTCATACGAAAGTTATTTCTTTTTAACCTCAAAAAGTGACAGAATGGAGTGTATCATGAAAAAGTCTGACATCAAAACCTCAAAATGTGATATTGATTGGGTGAGATAGAATTCCATGGAATTTCATTGCCAAACCAGTGAAGTGCTAATTTTGACATTTGTACCAGCTAACGTAGCTGTGAAGAAACACACCAATACACTTCTAAGGACAGCATAGACCAAGATCTAGGTTTCATATGGATGAATTTATTCTTCCCTTTGAGGCAAGACAAGAAGGAAAGAAAGTATTGGGAATAATGCTGCCCTCCCATCCTCAAGGGCCAGTGGGAACTCTAATATTGATTGGTTTTCACAGAATTCCATGGACTTTAACTGCTGAACCAATGATGCACTGATTTTGTCACTTGTACCAGCTAACGCATCTGGGAGGCAACAAAACAATACTCTCCTGAGGTTAATGTGGACCAAAAACTAGATTTCATATAAAAGAGTTTATTCCTTCTACTTGAGGTGTGACATGAAGGAAAGTAATGGAAATAATTCTGCCCTCCCATTCTCAAGGGCCAGGGGGAATTCAAATATTGAACGGAAGTGATTTTGGAATTGCATGGAATTCTCACTGCCATCCCAAAGAAATGCTGATCTTGTCACTCTTACCTGTTTCATTCCCTGGGGGCAGAACAAAAGGACGCACTCCAAAGATCGGCATGAACCAAGAACTGGGTTTCATATAAAATATTTTATTCTGTCCTCTTGAGATGTGACATGAGAAAAGTATTGAGAATACTTCTATCACCTCATCTTCAAGAATCCGTAGGAATTCTCCCATGGTGGACTTTACGGTTAACCTGAACAGGTCTTGGAAAAAGGACTTTAAACATTCTCCTGTTCTGTGGAATAAGTATACTTTTTTCTGGACATACACCTTGTCAGTGAGTTCCATGTGATACTAGAGTTGCATAGATTTTTAACCTTTACGCCAATGAAGATCTGAGGCAAACATTGCCCCTTTTTTAGAAGTTTGCATTTGTCACTGATAACTGTAATAATTGATCTTGTTGAAAAGCCTGGGAAATGAAGATCTGATATGTCACTTTTACCGGCTTCCTCAACTGAAAAAGAATACAATGAAACACGCTGAGAATTTTTGTGCTTTCTCAGTCTTGCTGATGATCTTTCTATGGGCCTGAAGCGTGGAGAGTGCCAGAGAGGCTGATCCTCAGCAGTGTGGCAGAGGAAAGTTGGGTGCGACTAAGGGGTATGCGGTGCCCACATGCCACTGGGTCCTCAGCAGTACCACCTGATTGGAAGTGATATTGGTGGAAGACAACATTTTGCCGCTTGGAATTCTCACCTCCACACCAAAGAAGTACTGTTTTTGTCATTTGCACCAGCTTCTTTCTCCAGGAAAGATCAAAACGATGCACTGCAAGTGTGATTGGTCCAGATAGCTGCCTTATCCAACTGCCTCCTTTGGACCACTTCATCATGGGACAGCTTGATGCAATCTACTTGACAAGACCCTGGAACCCCACACCCCTCATGGAACCAGTGTCCACCTCCCAGTCACAGTGTGACCCCAGGGAACTCTTGCCTGCTTGCTTTAAACCCACCACTTAAAAGTCTCCACAGAAAACCTGTTTGAATAGTACCCTTGACCCAATAAGGGCATTGGCCCCTGGGTGTCTCTCTCTCTCTCTCTCTCTCTCTCTCCCTCTCTCTCCCTCTCTCTCTCTCGCTCCCTGACCTCTGCGTGTGGACTCCAGGCATGCCATATACCCCTCAGGACCTGAAGCAAAAGAATGAATTAAAGAAAACTCCAGAGAATGAGCTGACAACCTACTCCCTGGTCAGTGGCTCTCCATGCCTACCTGTGGTCTCTTGGACACCCTTGCAGAAGATGACTTCCTGGGAACTCTTCTGGGAGTGAATGTTATCAGCAAATTCCCAAAACAACACCCCTTAGACAAAAAGCCTCCTCACCTATGCATTGCCTAGACCACCCACTAAAGGTGATGGCCACAAAGAGGTGGATTTGTTGAGTTGGTGCCATTCCTTCTACTGCCAGCTTCACCAAAACAATGACACAGTCTTCCTTCCGCATGGAGACTCTTCTCTTTCCTGTGTTGCAGTGGATGCCTCCTGCAGATAAGAAATGCTTAACTGAGAAATGCTCATGTTGGGATATCATCGATGAGACTTTAATTTGGGCATGGTGACTGTTTCCCTTGCTGCCACTTGACTCAATCCCAGGAGCCTCAGTAGAGGATATAATATTACACAAGATGCTCAAAATGGTGGAATTGCTCAGTGCTCCCATAAATATACATTTATAATTTTCATTTGCCACATGGTAAACTGAAAAATACAGACTATATTAAAAAGAAACTGCATGATTTTTTTTCAAAAATTCAAAGCATATTTAAATAATATATAAATTAAATGCCCTCCTCTCTTCCAATTCTGTCCCTATAGTTTTCCTCTATTAAGTGAACTACATGCATTCTTTTAGTGGATAGATGCACACAAACACACAAGCCATTATGGGGAAGGATCCACGTGTGTGGCCATATTGTAACACATTTTTCTGCAAATCACCTCTTTCATTTAACAGCCCTTATTCAATGGCCTTTTTCTTTTTCAGTAGTACATACACATCTGTGTCATTTGTTGAATGACGACATGAATGTTTTGTAGATAAAATATAATTAAATGTTTTAAGCATTTCTCACTCATAGATATTTATGTTAGCACCAAATTTCTGTGCAATGAACCTCCCTATATATCAGTAATTTTGCATTTGTCTATAATATCATAATAAATTACTTATCAGTTGAATTACTGGGATTAAGTATGTGCACACTTTATATTTATATTTTGAAAATTATTGCAAGATTGCCTTCAAAAATGTGGTTAACAACTTTATCTTCAAATGGCAATGAATGAGATTGCCAGCTTTCCTACAGCCTCACAGACAATGGATTTTATAAATATTTAACATTTTTGCCAATGTGATCACCCAAACTATTGTCTTAAATTGTATCTCTTTTGTTTTTGAGTTTGGTCATTTTTTCATGTTTATTAGCCATCTGTATTTTTTAATTTCTTCTTTATGTCCAATTTTGTGGGTGGGAGGAGGATTTAGTCTCTTCCTGATTTCGAAGAGCTCATTTACTATTTCGGGAAATAAGATTTGGATTGTCAACCATTATAGCTATTTTTTACACACTTTTCAACTTTGTTTTTGTTATAAGAATGTGTATGATTGTTACATGTCCAAGTATAACCATGTTCGCTTTTATGGCTTCTGAGTTTCATGTCATTTTTGGAAAGATATATATATTGAGTCCATAAAACCCTTCACCTATGTTAAATTCTAATTCTTTTGTGTTTTTTTAATTCAAATTCTTAAATCATGAGAAATTTTTTTGTTTTGAAATCTTAAAGTTGCCAAGTTACTTGCCATTACTTGCGATTATTTGCCAATAATTGCCCATTTATCTGTACCGCCATCTTGCGCATATGCTGTACTCTCATCTGTGACTGGCTCCATTTTTGTTCTGTGGATTTGTGTGTCTCTTCTTCTGCCTCCTGTCTCGTGTCTGCTCGTTGGAAGAAATTACAGTTTAGACTGCAATTTCATCAACTTTAATAAATCAATTGAGGGGAGAATTGGTTTTTAAAAATATTAAGTAAGTCTTCGTATCCAAGGACAAGGTATGTCTTTTCTTATTCAATAATTTTAATTACTGTTAATATTTTCACTGTGGTGATGGGAGTTTTTCTTTTAATTTATTTTCTTGTTCATTTTTTGTATCTAAAGTTTTTGTTTTGTTTTGTTTTGGGGGTAAGTTGTCACCTTACTGTTTCTTGTTGCTTTTCAGATTTTTTCAAAGTATAGACTAAATCCTTCACAAATATTTAAAGTTTTTATTTTCCCCCTTCATATTGATCCTGATTTTAGTTATGTTGACAAAGTCCACAGACTGTTACTATCAGAACACTTGAACAGTTATGGAAATATTACCTACCCTTGATTTAATCAGAGTTTAATGGTATGCTTCTTTGGTTTGACTGGCACATTGTCGCTGGTCATTTCCTCCCAAAGACCACCAGAAAGAGCTATGATCAAGCAAAGCTGAGTTTGTTAAACTTACCTGCAGCAAGGGAAAACACCACCTTGATAGGGTTTAATAATGTTTCAAAATCAAGAAATGAGGCTTTGGGGTCTGGGCAGGGAACTAATTAGAAATGGGCAAAATTTGTCATGCAATACCTTGTGGGAAAGTGAGATGAGGTTCTTAATGTGAGTATTGATGGTGAAATCATTTTCTAGGTGAGCTGTTTGCCTATATAAAGATGTTATCAATGACAGAAGAACTATTTGCCTAGATAAACAAACTGAATTTATTTATTGGTTTACAGTTTTATCTTGCTGGGCAGGACTCTGCTGGGGGTGGTATCAGGTCTTATTCCCAATAGGTAAGTTATTTGGATATGGGTGGTCTTAATCATCAATGTGTAAAATGCTGATTTTAAGTGCGAAATACTTTGTCTACCATGTTAGGAAAGTCTGCCACCTTTTATCTTTTTTAAGGAATTTTAATCAAAACCAGGTGGTAGATATAATCAAATTGTTTTGCAGAATCAATTTTCCTGTTCTCTTTAAAGACTTTTATCACTGTGAATTAATTTACTATTATTGCAACTTCCTTTAATTCCTTGAATGAACAGACCCTACTGGTTTTAAAAATGTTTTATTCTTTTAATTTACTACTTAATTGTGGGTATTTTAATTTGATTTGGAATTTTTACAAGTATACAACTAAGTGAAATTGATCTGTGATTTTTCTTTTTTGTGCTATTTTTGTCATGTTTTGATATCAGATATTCTGGTTGTGTTAAAATAATTTTGAGGATTTTCTTCTTATACTGTGTTCTAGAGTGGGTAAAAAAGCCCTAGTCTCACTATCAGTGTTTAAGTGAACACATCAGTGACATCATCTGGACTCTCCTTTGTTTTTGCTGGTTTGGAGTTAGGACATCTAGAAGTTTTTTTCTTTTTTTCCTTTTTTTGTATGGTTATTGCTTGTTCTTTGTTTTGTGTCAAATTTAACCTGTTTTCTCTTAGCAAATCACAGCTCATGCAGATTTTCAAACACATTAGCCTTGTTATACAAAGTGTTCTTTCATCATTCTATTAAATTTCCATTTTCATTCCAGTTATAGTTATTTCTGCTGTGCCTTTGTTAATGAATAAGTTTAAACAGTGGATGTTTAGCATCACTAGCCTTCCCCTTCCATCTCCCTTAATCAGGACCTTGGTATAATTTATCAGGTATTTTTTAAGGTTCTAATTTACTTATATATATTGTTTCTGTATTCTTTTGTTTCTTTTCTTAATAAATTCTTAAA    0\n",
            "code_TTTTTTTTTTTTTTTTTTTTTTTTTTAAGTAGAGACGGAGTTTCACCGTGTTAGCCAGAATGGCCTCCATCTCCTGACCTCGTGACCTGCCCGCCTCGGCCTCCCGAAGTGCTGGGATAACAGGCGTGAGCCACCGCGCCCGGCCGAGGTGTTCTTTCTATGTCAGTGGTTCTCAACCTTGACCGCATGTTAGAGTCGTTAGAGGAGCTTAAAATGTCCAGACTGTGCCCCAGAGCAGAATCCCTCGGGATAGGGTCGATGGATTAGGACTTTTTTTAAGCTGATAATTTTATATCTATGTAAGATCTTCTGTTTCCTGAACTTCGTGTGAACAGGTCAGGCGCCTGTTGGACCCCTGGAGCCTGGTTAATGGGAACGACCACAGTGGGCATCAAATGGGTAACTTCAGTACGCCAGCACGGTTGAGAACTATTGTTCAACGCGAACTTCACATATGAAGCCCCTCTCATGTGTCAGGCACGGCGTCAGATGCTGGACGGCAAGAAGGTGGCCTTCTGCAAATGGGGATGAGTCCTCACCAGGTGTGGGATCTGCCAGCACCTCGATCTTGGGCTTCCCAGCCTCAGTACTGTAAGAAAGTTTCGCTCTTTCACCCAGGCTGGAGTGCAGTGGCACGATCTTGGCTCACTTCAACCTCTGCCTTCCAGTTTCAAGTGATTCTACTGCCTCAGCCTCCCAAGTAGCTGGGATTACAGGCACCCACCACTATGCTCGGCTAATTTTTTTGTATTTTCAATAGTGACAGAGTTTCACCATATTGGCCAGGCTGGTGTCGAACTCCTGACCTCATGATCTGCCCACCTCTGCCTCCCAAAGTGCTGGGATTACAGGCGTGAGCCATCGCGCCCAGCCCATAAGTTTTAGTGCCTTTTTTTCATAGATGCTGAAACTGAAAAAGGGTGTGGTTAAATAATTTGCCCAAGCCAGTCTCTGGCAAAGATGGGATTCATATCCAGCTACTGATGACCAAACATGGTGAGCAGGTATCCTATGTCCCGAGGAAGCCCATTCCACCTGAGCACTGGATGGAAGGGATATCGCAATCACCCCCATGCATGATGGACAGGTCTAGGAGCATTGGACACTCAATGGAAACTCATGCCCCTGTCAGAAATTGGCAACTGCCACTTCCACGGCACTTGCAAACTTTGCACACGGTCCAGATGTGGCCTGGCTTGTTGCTGTCATGGTAGCAATAGTAATTACTTAGGGGATTTCTGCAGATCTTGCTCATATTGTGCATAATAGGGTATAAAATATGGAAAATTTGCCTCTAAAATAAAGTGTTGCTGGCAAACTCAAA                                                                                                                                                                                                                                                                                                                                                                                                                                                                                                                                                                                                                                                                                                                                                                                                                                                                                                                                                                                                                                                                                                                                                                                                                                                                                                                                                                                                                                                                                                                                                                                                                                                                                                                                                                                                                                                                                                                                                                                                                                                                                                                                                                                                                                                                                                                                                                                                                                                                                                                                                                                                                                                                                                                                                                                                                                                                                                                                                                                                                                                                                                                                                                                                                                                                                                                                                                                                                                                                                                                                                                                                                                                                                                                                                                                                                                                                                                                                                                                                                                                                                                                                                                                                                                                                                                                                                                                                                                                                                                                                                                                                                                                                                                                                                                                                                                                                                                                                                                                                                                                                                                                                                                                                                                                                                                                     0\n",
            "code_TTTTTTTTTTTTTTTTTTTTTTTTTTAAGTAGAGACGGAGTTTCACCGTGTTAGCCAGAATGGCCTCCATCTCCTGACCTCGTGACCTGCCCGCCTCGGCCTCCCGAAGTGCTGGGATAACAGGCGTGAGCCACCGCGCCCGGCCGAGGTGTTCTTTCTATGTCAGTGGTTCTCAACCTTGACCGCATGTTAGAGTCGTTAGAGGAGCTTAAAATGTCCAGACTGTGCCCCAGAGCAGAATCCCTCGGGATAGGGTCGATGGATTAGGACTTTTTTTAAGCTGATAATTTTATATCTATGTAAGATCTTCTGTTTCCTGAACTTCGTGTGAACAGGTCAGGCGCCTGTTGGACCCCTGGAGCCTGGTTAATGGGAACGACCACAGTGGGCATCAAATGGGTAACTTCAGTACGCCAGCACGGTTGAGAACTATTGTTCAACGCGAACTTCACATATGAAGCCCCTCTCATGTGTCAGGCACGGCGTCAGATGCTGGTAGGGACTGAATGTTTGTGTCCCCCAAAATTTGTATGTTGAAGTCACACCCTCAGTGTGATGGTATTGGGAGGTGGGGACTCGGGCAGGTCTGAGGTCGTGAGGATGGAGCCTCATGACAGGGTGAGAGAGAGCCCTTACAAGAAGAGACACAGGAGAGATGATCTCTTTCTGTCTCCTCTCCGCCATGTGAGGACGGCAAGAAGGTGGCCTTCTGCAAATGGGGATGAGTCCTCACCAGGTGTGGGATCTGCCAGCACCTCGATCTTGGGCTTCCCAGCCTCAGTACTGTAAGAAGTAAGTGTCTGTTGTTTAAGCCACCCCATGTAATATAATTTTGTTATAGCAGCCTACATTGATTAAGACAGATGCTAAGAATATGAAGGTGAAGAAATGTCCCAGTACTTCATGGGAACACATCCCAGTGGCTTACAGAATCAAAGATGAAAGAGAGAGGGATACACGTGGTTGCTGGCTCTTCCCTGCTGCTCAGATGCCTGGATCACTTGACTGCCTTCTCTATCAAAGAGTTTCGCTCTTTCACCCAGGCTGGAGTGCAGTGGCACGATCTTGGCTCACTTCAACCTCTGCCTTCCAGTTTCAAGTGATTCTACTGCCTCAGCCTCCCAAGTAGCTGGGATTACAGGCACCCACCACTATGCTCGGCTAATTTTTTTGTATTTTCAATAGTGACAGAGTTTCACCATATTGGCCAGGCTGGTGTCGAACTCCTGACCTCATGATCTGCCCACCTCTGCCTCCCAAAGTGCTGGGATTACAGGCGTGAGCCATCGCGCCCAGCCCATAAGTTTTAGTGCCTTTTTTTCATAGATGCTGAAACTGAAAAAGGGTGTGGTTAAATAATTTGCCCAAGCCAGTCTCTGGCAAAGATGGGATTCATATCCAGCTACTGATGACCAAACATGGTGAGCAGGTATCCTATGTCCCGAGGAAGCCCATTCCACCTGAGCACTGGATGGAAGGGATATCGCAATCACCCCCATGCATGATGGACAGGTCTAGGAGCATTGGACACTCAATGGAAACTCATGCCCCTGTCAGAAATTGGCAACTGCCACTTCCACGGCACTTGCAAACTTTGCACACGGTCCAGATGTGGCCTGGCTTGTTGCTGTCATGGTAGCAATAGTAATTACTTAGGGGATTTCTGCAGATCTTGCTCATATTGTGCATAATAGGGTATAAAATATGGAAAATTTGCCTCTAAAATAAAGTGTTGCTGGCAAA                                                                                                                                                                                                                                                                                                                                                                                                                                                                                                                                                                                                                                                                                                                                                                                                                                                                                                                                                                                                                                                                                                                                                                                                                                                                                                                                                                                                                                                                                                                                                                                                                                                                                                                                                                                                                                                                                                                                                                                                                                                                                                                                                                                                                                                                                                                                                                                                                                                                                                                                                                                                                                                                                                                                                                                                                                                                                                                                                                                                                                                                                                                                                                                                                                                                                                                                                                                                                                                                                                                                                                                                                                                                                                                                                                                                                                                                                                                                                                                                                                                                                                                                                                                                                                                                                                                                                                                                                                                                                                                                                                                                                                                                                                                                                                                                                                                                                  0\n",
            "code_TTTTTTTTTTTTTTTTTTTTTTTTTTGAGTTGGAGTTTTGCTCTTGTTGCCCAGACTGGAGTGCAATGGCATTATCTCAGCTCACTGCAACATCCGCCTCCCGTGTTCAAGCAATTCTCCTGCTTCAGTCTCCGAAGTAGCTGGGATTACAATAGACTGGATTTTATCAAGGAATGTATTTCTTCTAGAAAATAGATACACTTTCAAAGATACGTTAATTTACATGAGAGCTTGCCTGTGTGCACAATAGAAAGCCAAAAATAAAGAGGTTATCATCTAATGGCACAAAGTTTTCTTATTTCATAAGCTTGCATTTTCTTTTCTTATTAAACACCGTCTCACCTTTCTTTTTCAGGAAACACTTTCTGAAAATGTCAGAACTCTTGAAAACATGGATGAGGAAAAGCATAAGTACTGCTTTATGCTTTTCTTATGAATTTTAAAAGATGTAATTTAAAGGAGCTGTCATTTAAATGTGCTTGCCAACTAGCTTGTTTATCAAAACATTCCAGACCCTTTCAAATTCTCATTTACATTGTTTCTTGTTTACCACACCCATAAATTTGTATTACCAGCATATTTAACTATCCGGCTATTTTGGAGATTGAAAAAAGAAGACCTGATTTATCATGTGCAATATCTCACACATCTGTCATTTCTATTCTACCGCAATTCGATGGAGTCTTGTTCTGTGGTCCAGGCTAGAGGGCAGTGGCATGATCTCGGCTCACTACAAGCTCTGCCTCCCGGGTTCACGCCATTCTCCTGCCTCAGCCTCCTGAGTAGCTGGGACTACAGGCGCCCGCCACCACGCCTGGCTAATTTTTTGTATATTTACTAGAGATGGCTAGTGTTAGCCAAGATGGTCTCGATCTCCTGACCTCGTGATCTGCCCACCTCAGCCTGCCAAAGTGCTGGGATTACTGGCGTGAGCCACCGTGCCTGGCCAGCATCCTCTAATTATTATTCATAGTTTGTGAATTTAGGCCTACGTGAATAATAATATAATATTTACTATGATGTTACTATCTACCAACCTTATTTTTCTTTTCTATAAAATAGGAGCCAAAATAATATTTATGTCATACCTTATGAAGTTAAAATAAAATATAACGAATGAGGG                                                                                                                                                                                                                                                                                                                                                                                                                                                                                                                                                                                                                                                                                                                                                                                                                                                                                                                                                                                                                                                                                                                                                                                                                                                                                                                                                                                                                                                                                                                                                                                                                                                                                                                                                                                                                                                                                                                                                                                                                                                                                                                                                                                                                                                                                                                                                                                                                                                                                                                                                                                                                                                                                                                                                                                                                                                                                                                                                                                                                                                                                                                                                                                                                                                                                                                                                                                                                                                                                                                                                                                                                                                                                                                                                                                                                                                                                                                                                                                                                                                                                                                                                                                                                                                                                                                                                                                                                                                                                                                                                                                                                                                                                                                                                                                                                                                                                                                                                                                                                                                                                                                                                                                                                                                                                                                                                                                                                                                                                                                              0\n",
            "code_TTTTTTTTTTTTTTTTTTTTTTTTTTTTTTTGAGACAGGGTCTGTCTCTGTTGCCTAGGCTGGAGTGCACTGGCACCATCTCGGCTGACTGCAACCTCGACCTTCTGGGCTCAAGCCGCCCTGCCACCTCAGCCTCTCAAGTAGCTGGGACTACAAGTCTGCCATCACTATGCCCAGCTAATTTTTGTGTTTTTAGTATAGAGAAAGGGTTTCTCCATGTTGCCCAGGCTGGTCTTGAACTCCTGAGCTCAAATGATCCACCTGCCTCGGCATCCCAAAGTGCTGGGATTAACAGGCCTGAGCTCCCATGCCTGGCCTTTTCTTTCCTATGGTTAGTATTTTTGTGACCTATTTAAGAAATCTTTGCCTGCCCAAGATGTTCATGTTCTTCTGGAAGCCTGTTTTAGCATTCACACTTATGTCTATGGTCCCTCTTGAATTAGTTTTTGTACATGGTGTGAGGCTCAGCCTGACCTCCCTGTATGATGTCTGGGATCCAGGCTACCTGCCTATGCATCCTTCTGGGTATTGGCAGACCCTGGTGATAATACAGCACACCCCTGAGGTGATCCCAAGACTGCCAGGAGGGAGAGGTTATCCATGGAGCTCAGCATCATTTATTGACTTAATTCCTACCATGGTGCTTGGCTGTGGGAGAAGCAGAAAATGCCCTGGACAGCCTTCACCAGGAGCAGCTGCTATTGGAAGAACTTTACTTAACCCTTCAAATCTCATTCCTACACCTGCATAGGCCAAGAGGCCCTCCCCAAATCCTCAGTTCCTGGCCCTCAGGGCTTTGCCCATGAACTCTGTGCAGCTGCTCCTGGACCATGGTGCTGATCCTAACCAGCGAGATGGGCTGGGGAACACGCCACTGCACCTGGCGGCCTGCACCAACCACGTTCCTGTCATCACCACACTGCTACGAGGAGGTATGTGGTTTCTTCCCCTCTCTGTCCTCTTTCTCCCCCTCACCCCCAGAATGCTCACCTCAGCTGGTACCTGCAGGGGCCCGTGTAGATGCCCTGGACCGAGCTGGTCGCACACCCCTGCACCTGGCCAAGTCAAAGCTGAATATCCTGCAGGAGGGCCATGCCCAGTGCCTAGAGGCTGTGCGTCTGGAGGTGAAGCAGATCATCCATATGCTGAGGGAGTATCTGGAGCGCCTAGGGCAACATGAGCAGCGAGAACGCCTGGATGACCTCTGCACCCGCCTGCAGATGACCAGTACCAAAGAGCAGGTGGATGAAGTGACTGACCTCCTGGCCAGCTTCACCTCCCTCAGTCTGCAGATGCAGAGCATGGAGAAGAGGTAGCAAGAGAGGCTCCCTGCCTTCCTGCCACTGCCCCACCCTGCCCCACTGCTGTCTCAGTACCAAGAAAAAGCCCAACATCTGGGACTTGGAGCTGCACTTGTCTGGTGAGGACCTTGCCCTCACCCGCAGATGCCGTGGGGCAGAGATGCTCTCTCTCCACGGCCTCAGAGCCACTCCCAGCCACAGTTTCCAGCATCTCTGTGGACAGGGACCACAGCTCCCAGCTTCTTCCAGTTCTCGCAGCACCAGACCAGCCTCTGCAGCTGCACTTCAGCTCCGCAGACCTGCGCTATCTCAGCAGACCTCACTTGCCCCATGGCCTTCATGGCGCGCTCCAGGCCTCAGACCCTTCTCTGTGTTCCGTCCTGGCCATGGGCTTGTTGCAGTCAGCAGGTGTGGGCTTAGGCGGGCACCCTGTGGCCAGGGGTACTGCGTGAGGCCCTCAGTTGGTCCTGTGCCTCTCACCAGCACTTAGACAGACACGTCACCAGACTTTCAAGGAGATACTGCAGTGAGTTTCTCTGGTTGGAAGGGGAGGGTTGGTGAGTCCCAGACCTTAAAAATACAAGGTTAAGAGGGACCCCAAAGCAAAAAATTCCAACCCTTTTCCTCCCAGTCATTGAAACACCAAAACTATTATACCGGAGGGTGTAATAGTTTTGCTGCCCAGTTGTGGTAGGCCAGTAGTGGCCTCCCAAGATGCCCATGTCCTAATCCCAGGAACCTGTCAAAATTACCTTGTATGGCCAAAGGGGCTTTGCAGATGTAATGAAGTTAAGGATCTTTCGCCAGGAAGATTATCCCAGCTTGTTCAGGAGGGCTTGATGTCCTCACCCGGGTCTGTATAACAGAAGAGCAGGTGACGGGAGAGGAGGTTGGAGGTGTAGCGATGGAGCAGGAAACTGGAGTTGAGGAGGGCAGCTCAAGCCACAGAGTCCAGGCCACCTCAGAGCCAGGAAATGCATCCTCCCACAGAGCCCTGGAAGGCCCCAGCCCTGCTCCCACCTGGACTGGCTCAGTGAGGCTAATTTTATAATTCTGGCTGATTTTAGAACTCTAAGGGAATAAATTTGTGTTGTTTTAAGTC                                                                                                                                                                                                                                                                                                                                                                                                                                                                                                                                                                                                                                                                                                                                                                                                                                                                                                                                                                                                                                                                                                                                                                                                                                                                                                                                                                                                                                                                                                                                                                                                                                                                                                                                                                                                                                                                                                                                                                                                                                                                                                                                                                                                                                                                                                                                                                                                                                                                                                                                                                                                                                                                                                                                                                                                                                                                                                                                                                                                                                                                                                                                                                                                                                                                                                                                                                                                                                                                                                                                                                                                                                                                                                                                                                                                                                                                                                                                                                                                                                                                                                                                                                                              0\n",
            "Length: 31311, dtype: int64\n",
            "Missing values in testing features:\n",
            "A_A_1                                                                                                                                                                                                                                                                                                                                                                                                                                                                                                                                                                                                                                                                                                                                                                                                                                                                                                                                                                                                                                                                                                                                                                                                                                                                                                                                                                                                                                                                                                                                                                                                                                                                                                                                                                                                                                                                                                                                                                                                                                                                                                                                                                                                                                                                                                                                                                                                                                                                                                                                                                                                                                                                                                                                                                                                                                                                                                                                                                                                                                                                                                                                                                                                                                                                                                                                                                                                                                                                                                                                                                                                                                                                                                                                                                                                                                                                                                                                                                                                                                                                                                                                                                                                                                                                                                                                                                                                                                                                                                                                                                                                                                                                                                                                                                                                                                                                                                                                                                                                                                                                                                                                                                                                                                                                                                                                                                                                                                                                                                                                                                                                                                                                                                                                                                                                                                                                                                                                                                                                                                                                                                                                                                                                                                                                                                                                                                                                                                                                                                                                                                                                                                                                                                 0\n",
            "A_T_1                                                                                                                                                                                                                                                                                                                                                                                                                                                                                                                                                                                                                                                                                                                                                                                                                                                                                                                                                                                                                                                                                                                                                                                                                                                                                                                                                                                                                                                                                                                                                                                                                                                                                                                                                                                                                                                                                                                                                                                                                                                                                                                                                                                                                                                                                                                                                                                                                                                                                                                                                                                                                                                                                                                                                                                                                                                                                                                                                                                                                                                                                                                                                                                                                                                                                                                                                                                                                                                                                                                                                                                                                                                                                                                                                                                                                                                                                                                                                                                                                                                                                                                                                                                                                                                                                                                                                                                                                                                                                                                                                                                                                                                                                                                                                                                                                                                                                                                                                                                                                                                                                                                                                                                                                                                                                                                                                                                                                                                                                                                                                                                                                                                                                                                                                                                                                                                                                                                                                                                                                                                                                                                                                                                                                                                                                                                                                                                                                                                                                                                                                                                                                                                                                                 0\n",
            "A_C_1                                                                                                                                                                                                                                                                                                                                                                                                                                                                                                                                                                                                                                                                                                                                                                                                                                                                                                                                                                                                                                                                                                                                                                                                                                                                                                                                                                                                                                                                                                                                                                                                                                                                                                                                                                                                                                                                                                                                                                                                                                                                                                                                                                                                                                                                                                                                                                                                                                                                                                                                                                                                                                                                                                                                                                                                                                                                                                                                                                                                                                                                                                                                                                                                                                                                                                                                                                                                                                                                                                                                                                                                                                                                                                                                                                                                                                                                                                                                                                                                                                                                                                                                                                                                                                                                                                                                                                                                                                                                                                                                                                                                                                                                                                                                                                                                                                                                                                                                                                                                                                                                                                                                                                                                                                                                                                                                                                                                                                                                                                                                                                                                                                                                                                                                                                                                                                                                                                                                                                                                                                                                                                                                                                                                                                                                                                                                                                                                                                                                                                                                                                                                                                                                                                 0\n",
            "A_G_1                                                                                                                                                                                                                                                                                                                                                                                                                                                                                                                                                                                                                                                                                                                                                                                                                                                                                                                                                                                                                                                                                                                                                                                                                                                                                                                                                                                                                                                                                                                                                                                                                                                                                                                                                                                                                                                                                                                                                                                                                                                                                                                                                                                                                                                                                                                                                                                                                                                                                                                                                                                                                                                                                                                                                                                                                                                                                                                                                                                                                                                                                                                                                                                                                                                                                                                                                                                                                                                                                                                                                                                                                                                                                                                                                                                                                                                                                                                                                                                                                                                                                                                                                                                                                                                                                                                                                                                                                                                                                                                                                                                                                                                                                                                                                                                                                                                                                                                                                                                                                                                                                                                                                                                                                                                                                                                                                                                                                                                                                                                                                                                                                                                                                                                                                                                                                                                                                                                                                                                                                                                                                                                                                                                                                                                                                                                                                                                                                                                                                                                                                                                                                                                                                                 0\n",
            "T_A_1                                                                                                                                                                                                                                                                                                                                                                                                                                                                                                                                                                                                                                                                                                                                                                                                                                                                                                                                                                                                                                                                                                                                                                                                                                                                                                                                                                                                                                                                                                                                                                                                                                                                                                                                                                                                                                                                                                                                                                                                                                                                                                                                                                                                                                                                                                                                                                                                                                                                                                                                                                                                                                                                                                                                                                                                                                                                                                                                                                                                                                                                                                                                                                                                                                                                                                                                                                                                                                                                                                                                                                                                                                                                                                                                                                                                                                                                                                                                                                                                                                                                                                                                                                                                                                                                                                                                                                                                                                                                                                                                                                                                                                                                                                                                                                                                                                                                                                                                                                                                                                                                                                                                                                                                                                                                                                                                                                                                                                                                                                                                                                                                                                                                                                                                                                                                                                                                                                                                                                                                                                                                                                                                                                                                                                                                                                                                                                                                                                                                                                                                                                                                                                                                                                 0\n",
            "                                                                                                                                                                                                                                                                                                                                                                                                                                                                                                                                                                                                                                                                                                                                                                                                                                                                                                                                                                                                                                                                                                                                                                                                                                                                                                                                                                                                                                                                                                                                                                                                                                                                                                                                                                                                                                                                                                                                                                                                                                                                                                                                                                                                                                                                                                                                                                                                                                                                                                                                                                                                                                                                                                                                                                                                                                                                                                                                                                                                                                                                                                                                                                                                                                                                                                                                                                                                                                                                                                                                                                                                                                                                                                                                                                                                                                                                                                                                                                                                                                                                                                                                                                                                                                                                                                                                                                                                                                                                                                                                                                                                                                                                                                                                                                                                                                                                                                                                                                                                                                                                                                                                                                                                                                                                                                                                                                                                                                                                                                                                                                                                                                                                                                                                                                                                                                                                                                                                                                                                                                                                                                                                                                                                                                                                                                                                                                                                                                                                                                                                                                                                                                                                                                     ..\n",
            "code_TTTTTTTTTTTTTTTTTTTTTTTTTCAGAGTATTTTCTTTCTTGTCCAGATTAGCTAAATTGGATTGTTCTATGCTAAATTCACTTAATCACTACTCTATTATTTTTGAATTTTTTAGTTCTGTTTTTTTCACTTGGTTCTTTTTTTAAAAAAACTTCTACTACCTTTCTGAGACTTCTACTTTTTTACTTTTTTCAAGAAGCTTTATAATTACTTGCTAAAGCATTTTTACCATGACTGTTTTTAACTTCTTCAGATAACCACAACATTTGGTTAATCTTGAGGTTGGCTTGGTTAACTGTCTTTTCTCATCCTGCTTATGATTTTCCTTCTAATTGTGATTTTTCCGGTTCTTGATAGATGGGTGATGTTTTAGTTTATCCTGCATTTTTTTTTCCTTTTTAAGTTAGAGGAATCTGAATCTATTCAAATGTTTTATTTTAGCAGGCATGTGCCCTGTTTAGGTTTAATTTGAATGTCCTGTCCTACTTTTGTAGGCCATGTTTTCGCAGGCAGTCTTGCTATCAGAGCTGAGGGGATGCTGTTTTGATCACTTAGTTTATCTGATGTTGCTGGGCCTCCAACTGGTGCTGACTGGTACTTCCTGAGATGGCGAAGGTTTTTCTGTACTCTGAGATGCCGTGTATCTCTATGTAAGGGGAGGAGACTCTGGACCACAGGAATGAAGAGAACATCTTAGGTCAGGCAGCTCAATCATATGCGATAACCTGGGTCAACCAGCCAGTAGCCTCATGAAGTATGGGAGGGAATTCTCCAGTGTCAGCATTCAAAGACATCATGAGTTTTTACTTCTCATTTTCTTTTAAGTGAAATAATCGCATGGAAATTAAAGAATAAATATATGAAATATATGAAACTTATATGAAATATAAGAATGTGAGAAGGCCTACAGCGTGGGGATCCCCAGGCTATTTGAACAATGAATGTCTGTGTTACACATCTTTGCTCACTTTTTCTCTATTTTTGTAGTTCATTGTGGAACCAGCACAGATTTTCATACGAAAGTTATTTCTTTTTAACCTCAAAAAGTGACAGAATGGAGTGTATCATGAAAAAGTCTGACATCAAAACCTCAAAATGTGATATTGATTGGGTGAGATAGAATTCCATGGAATTTCATTGCCAAACCAGTGAAGTGCTAATTTTGACATTTGTACCAGCTAACGTAGCTGTGAAGAAACACACCAATACACTTCTAAGGACAGCATAGACCAAGATCTAGGTTTCATATGGATGAATTTATTCTTCCCTTTGAGGCAAGACAAGAAGGAAAGAAAGTATTGGGAATAATGCTGCCCTCCCATCCTCAAGGGCCAGTGGGAACTCTAATATTGATTGGTTTTCACAGAATTCCATGGACTTTAACTGCTGAACCAATGATGCACTGATTTTGTCACTTGTACCAGCTAACGCATCTGGGAGGCAACAAAACAATACTCTCCTGAGGTTAATGTGGACCAAAAACTAGATTTCATATAAAAGAGTTTATTCCTTCTACTTGAGGTGTGACATGAAGGAAAGTAATGGAAATAATTCTGCCCTCCCATTCTCAAGGGCCAGGGGGAATTCAAATATTGAACGGAAGTGATTTTGGAATTGCATGGAATTCTCACTGCCATCCCAAAGAAATGCTGATCTTGTCACTCTTACCTGTTTCATTCCCTGGGGGCAGAACAAAAGGACGCACTCCAAAGATCGGCATGAACCAAGAACTGGGTTTCATATAAAATATTTTATTCTGTCCTCTTGAGATGTGACATGAGAAAAGTATTGAGAATACTTCTATCACCTCATCTTCAAGAATCCGTAGGAATTCTCCCATGGTGGACTTTACGGTTAACCTGAACAGGTCTTGGAAAAAGGACTTTAAACATTCTCCTGTTCTGTGGAATAAGTATACTTTTTTCTGGACATACACCTTGTCAGTGAGTTCCATGTGATACTAGAGTTGCATAGATTTTTAACCTTTACGCCAATGAAGATCTGAGGCAAACATTGCCCCTTTTTTAGAAGTTTGCATTTGTCACTGATAACTGTAATAATTGATCTTGTTGAAAAGCCTGGGAAATGAAGATCTGATATGTCACTTTTACCGGCTTCCTCAACTGAAAAAGAATACAATGAAACACGCTGAGAATTTTTGTGCTTTCTCAGTCTTGCTGATGATCTTTCTATGGGCCTGAAGCGTGGAGAGTGCCAGAGAGGCTGATCCTCAGCAGTGTGGCAGAGGAAAGTTGGGTGCGACTAAGGGGTATGCGGTGCCCACATGCCACTGGGTCCTCAGCAGTACCACCTGATTGGAAGTGATATTGGTGGAAGACAACATTTTGCCGCTTGGAATTCTCACCTCCACACCAAAGAAGTACTGTTTTTGTCATTTGCACCAGCTTCTTTCTCCAGGAAAGATCAAAACGATGCACTGCAAGTGTGATTGGTCCAGATAGCTGCCTTATCCAACTGCCTCCTTTGGACCACTTCATCATGGGACAGCTTGATGCAATCTACTTGACAAGACCCTGGAACCCCACACCCCTCATGGAACCAGTGTCCACCTCCCAGTCACAGTGTGACCCCAGGGAACTCTTGCCTGCTTGCTTTAAACCCACCACTTAAAAGTCTCCACAGAAAACCTGTTTGAATAGTACCCTTGACCCAATAAGGGCATTGGCCCCTGGGTGTCTCTCTCTCTCTCTCTCTCTCTCTCTCCCTCTCTCTCCCTCTCTCTCTCTCGCTCCCTGACCTCTGCGTGTGGACTCCAGGCATGCCATATACCCCTCAGGACCTGAAGCAAAAGAATGAATTAAAGAAAACTCCAGAGAATGAGCTGACAACCTACTCCCTGGTCAGTGGCTCTCCATGCCTACCTGTGGTCTCTTGGACACCCTTGCAGAAGATGACTTCCTGGGAACTCTTCTGGGAGTGAATGTTATCAGCAAATTCCCAAAACAACACCCCTTAGACAAAAAGCCTCCTCACCTATGCATTGCCTAGACCACCCACTAAAGGTGATGGCCACAAAGAGGTGGATTTGTTGAGTTGGTGCCATTCCTTCTACTGCCAGCTTCACCAAAACAATGACACAGTCTTCCTTCCGCATGGAGACTCTTCTCTTTCCTGTGTTGCAGTGGATGCCTCCTGCAGATAAGAAATGCTTAACTGAGAAATGCTCATGTTGGGATATCATCGATGAGACTTTAATTTGGGCATGGTGACTGTTTCCCTTGCTGCCACTTGACTCAATCCCAGGAGCCTCAGTAGAGGATATAATATTACACAAGATGCTCAAAATGGTGGAATTGCTCAGTGCTCCCATAAATATACATTTATAATTTTCATTTGCCACATGGTAAACTGAAAAATACAGACTATATTAAAAAGAAACTGCATGATTTTTTTTCAAAAATTCAAAGCATATTTAAATAATATATAAATTAAATGCCCTCCTCTCTTCCAATTCTGTCCCTATAGTTTTCCTCTATTAAGTGAACTACATGCATTCTTTTAGTGGATAGATGCACACAAACACACAAGCCATTATGGGGAAGGATCCACGTGTGTGGCCATATTGTAACACATTTTTCTGCAAATCACCTCTTTCATTTAACAGCCCTTATTCAATGGCCTTTTTCTTTTTCAGTAGTACATACACATCTGTGTCATTTGTTGAATGACGACATGAATGTTTTGTAGATAAAATATAATTAAATGTTTTAAGCATTTCTCACTCATAGATATTTATGTTAGCACCAAATTTCTGTGCAATGAACCTCCCTATATATCAGTAATTTTGCATTTGTCTATAATATCATAATAAATTACTTATCAGTTGAATTACTGGGATTAAGTATGTGCACACTTTATATTTATATTTTGAAAATTATTGCAAGATTGCCTTCAAAAATGTGGTTAACAACTTTATCTTCAAATGGCAATGAATGAGATTGCCAGCTTTCCTACAGCCTCACAGACAATGGATTTTATAAATATTTAACATTTTTGCCAATGTGATCACCCAAACTATTGTCTTAAATTGTATCTCTTTTGTTTTTGAGTTTGGTCATTTTTTCATGTTTATTAGCCATCTGTATTTTTTAATTTCTTCTTTATGTCCAATTTTGTGGGTGGGAGGAGGATTTAGTCTCTTCCTGATTTCGAAGAGCTCATTTACTATTTCGGGAAATAAGATTTGGATTGTCAACCATTATAGCTATTTTTTACACACTTTTCAACTTTGTTTTTGTTATAAGAATGTGTATGATTGTTACATGTCCAAGTATAACCATGTTCGCTTTTATGGCTTCTGAGTTTCATGTCATTTTTGGAAAGATATATATATTGAGTCCATAAAACCCTTCACCTATGTTAAATTCTAATTCTTTTGTGTTTTTTTAATTCAAATTCTTAAATCATGAGAAATTTTTTTGTTTTGAAATCTTAAAGTTGCCAAGTTACTTGCCATTACTTGCGATTATTTGCCAATAATTGCCCATTTATCTGTACCGCCATCTTGCGCATATGCTGTACTCTCATCTGTGACTGGCTCCATTTTTGTTCTGTGGATTTGTGTGTCTCTTCTTCTGCCTCCTGTCTCGTGTCTGCTCGTTGGAAGAAATTACAGTTTAGACTGCAATTTCATCAACTTTAATAAATCAATTGAGGGGAGAATTGGTTTTTAAAAATATTAAGTAAGTCTTCGTATCCAAGGACAAGGTATGTCTTTTCTTATTCAATAATTTTAATTACTGTTAATATTTTCACTGTGGTGATGGGAGTTTTTCTTTTAATTTATTTTCTTGTTCATTTTTTGTATCTAAAGTTTTTGTTTTGTTTTGTTTTGGGGGTAAGTTGTCACCTTACTGTTTCTTGTTGCTTTTCAGATTTTTTCAAAGTATAGACTAAATCCTTCACAAATATTTAAAGTTTTTATTTTCCCCCTTCATATTGATCCTGATTTTAGTTATGTTGACAAAGTCCACAGACTGTTACTATCAGAACACTTGAACAGTTATGGAAATATTACCTACCCTTGATTTAATCAGAGTTTAATGGTATGCTTCTTTGGTTTGACTGGCACATTGTCGCTGGTCATTTCCTCCCAAAGACCACCAGAAAGAGCTATGATCAAGCAAAGCTGAGTTTGTTAAACTTACCTGCAGCAAGGGAAAACACCACCTTGATAGGGTTTAATAATGTTTCAAAATCAAGAAATGAGGCTTTGGGGTCTGGGCAGGGAACTAATTAGAAATGGGCAAAATTTGTCATGCAATACCTTGTGGGAAAGTGAGATGAGGTTCTTAATGTGAGTATTGATGGTGAAATCATTTTCTAGGTGAGCTGTTTGCCTATATAAAGATGTTATCAATGACAGAAGAACTATTTGCCTAGATAAACAAACTGAATTTATTTATTGGTTTACAGTTTTATCTTGCTGGGCAGGACTCTGCTGGGGGTGGTATCAGGTCTTATTCCCAATAGGTAAGTTATTTGGATATGGGTGGTCTTAATCATCAATGTGTAAAATGCTGATTTTAAGTGCGAAATACTTTGTCTACCATGTTAGGAAAGTCTGCCACCTTTTATCTTTTTTAAGGAATTTTAATCAAAACCAGGTGGTAGATATAATCAAATTGTTTTGCAGAATCAATTTTCCTGTTCTCTTTAAAGACTTTTATCACTGTGAATTAATTTACTATTATTGCAACTTCCTTTAATTCCTTGAATGAACAGACCCTACTGGTTTTAAAAATGTTTTATTCTTTTAATTTACTACTTAATTGTGGGTATTTTAATTTGATTTGGAATTTTTACAAGTATACAACTAAGTGAAATTGATCTGTGATTTTTCTTTTTTGTGCTATTTTTGTCATGTTTTGATATCAGATATTCTGGTTGTGTTAAAATAATTTTGAGGATTTTCTTCTTATACTGTGTTCTAGAGTGGGTAAAAAAGCCCTAGTCTCACTATCAGTGTTTAAGTGAACACATCAGTGACATCATCTGGACTCTCCTTTGTTTTTGCTGGTTTGGAGTTAGGACATCTAGAAGTTTTTTTCTTTTTTTCCTTTTTTTGTATGGTTATTGCTTGTTCTTTGTTTTGTGTCAAATTTAACCTGTTTTCTCTTAGCAAATCACAGCTCATGCAGATTTTCAAACACATTAGCCTTGTTATACAAAGTGTTCTTTCATCATTCTATTAAATTTCCATTTTCATTCCAGTTATAGTTATTTCTGCTGTGCCTTTGTTAATGAATAAGTTTAAACAGTGGATGTTTAGCATCACTAGCCTTCCCCTTCCATCTCCCTTAATCAGGACCTTGGTATAATTTATCAGGTATTTTTTAAGGTTCTAATTTACTTATATATATTGTTTCTGTATTCTTTTGTTTCTTTTCTTAATAAATTCTTAAA    0\n",
            "code_TTTTTTTTTTTTTTTTTTTTTTTTTTAAGTAGAGACGGAGTTTCACCGTGTTAGCCAGAATGGCCTCCATCTCCTGACCTCGTGACCTGCCCGCCTCGGCCTCCCGAAGTGCTGGGATAACAGGCGTGAGCCACCGCGCCCGGCCGAGGTGTTCTTTCTATGTCAGTGGTTCTCAACCTTGACCGCATGTTAGAGTCGTTAGAGGAGCTTAAAATGTCCAGACTGTGCCCCAGAGCAGAATCCCTCGGGATAGGGTCGATGGATTAGGACTTTTTTTAAGCTGATAATTTTATATCTATGTAAGATCTTCTGTTTCCTGAACTTCGTGTGAACAGGTCAGGCGCCTGTTGGACCCCTGGAGCCTGGTTAATGGGAACGACCACAGTGGGCATCAAATGGGTAACTTCAGTACGCCAGCACGGTTGAGAACTATTGTTCAACGCGAACTTCACATATGAAGCCCCTCTCATGTGTCAGGCACGGCGTCAGATGCTGGACGGCAAGAAGGTGGCCTTCTGCAAATGGGGATGAGTCCTCACCAGGTGTGGGATCTGCCAGCACCTCGATCTTGGGCTTCCCAGCCTCAGTACTGTAAGAAAGTTTCGCTCTTTCACCCAGGCTGGAGTGCAGTGGCACGATCTTGGCTCACTTCAACCTCTGCCTTCCAGTTTCAAGTGATTCTACTGCCTCAGCCTCCCAAGTAGCTGGGATTACAGGCACCCACCACTATGCTCGGCTAATTTTTTTGTATTTTCAATAGTGACAGAGTTTCACCATATTGGCCAGGCTGGTGTCGAACTCCTGACCTCATGATCTGCCCACCTCTGCCTCCCAAAGTGCTGGGATTACAGGCGTGAGCCATCGCGCCCAGCCCATAAGTTTTAGTGCCTTTTTTTCATAGATGCTGAAACTGAAAAAGGGTGTGGTTAAATAATTTGCCCAAGCCAGTCTCTGGCAAAGATGGGATTCATATCCAGCTACTGATGACCAAACATGGTGAGCAGGTATCCTATGTCCCGAGGAAGCCCATTCCACCTGAGCACTGGATGGAAGGGATATCGCAATCACCCCCATGCATGATGGACAGGTCTAGGAGCATTGGACACTCAATGGAAACTCATGCCCCTGTCAGAAATTGGCAACTGCCACTTCCACGGCACTTGCAAACTTTGCACACGGTCCAGATGTGGCCTGGCTTGTTGCTGTCATGGTAGCAATAGTAATTACTTAGGGGATTTCTGCAGATCTTGCTCATATTGTGCATAATAGGGTATAAAATATGGAAAATTTGCCTCTAAAATAAAGTGTTGCTGGCAAACTCAAA                                                                                                                                                                                                                                                                                                                                                                                                                                                                                                                                                                                                                                                                                                                                                                                                                                                                                                                                                                                                                                                                                                                                                                                                                                                                                                                                                                                                                                                                                                                                                                                                                                                                                                                                                                                                                                                                                                                                                                                                                                                                                                                                                                                                                                                                                                                                                                                                                                                                                                                                                                                                                                                                                                                                                                                                                                                                                                                                                                                                                                                                                                                                                                                                                                                                                                                                                                                                                                                                                                                                                                                                                                                                                                                                                                                                                                                                                                                                                                                                                                                                                                                                                                                                                                                                                                                                                                                                                                                                                                                                                                                                                                                                                                                                                                                                                                                                                                                                                                                                                                                                                                                                                                                                                                                                                                                     0\n",
            "code_TTTTTTTTTTTTTTTTTTTTTTTTTTAAGTAGAGACGGAGTTTCACCGTGTTAGCCAGAATGGCCTCCATCTCCTGACCTCGTGACCTGCCCGCCTCGGCCTCCCGAAGTGCTGGGATAACAGGCGTGAGCCACCGCGCCCGGCCGAGGTGTTCTTTCTATGTCAGTGGTTCTCAACCTTGACCGCATGTTAGAGTCGTTAGAGGAGCTTAAAATGTCCAGACTGTGCCCCAGAGCAGAATCCCTCGGGATAGGGTCGATGGATTAGGACTTTTTTTAAGCTGATAATTTTATATCTATGTAAGATCTTCTGTTTCCTGAACTTCGTGTGAACAGGTCAGGCGCCTGTTGGACCCCTGGAGCCTGGTTAATGGGAACGACCACAGTGGGCATCAAATGGGTAACTTCAGTACGCCAGCACGGTTGAGAACTATTGTTCAACGCGAACTTCACATATGAAGCCCCTCTCATGTGTCAGGCACGGCGTCAGATGCTGGTAGGGACTGAATGTTTGTGTCCCCCAAAATTTGTATGTTGAAGTCACACCCTCAGTGTGATGGTATTGGGAGGTGGGGACTCGGGCAGGTCTGAGGTCGTGAGGATGGAGCCTCATGACAGGGTGAGAGAGAGCCCTTACAAGAAGAGACACAGGAGAGATGATCTCTTTCTGTCTCCTCTCCGCCATGTGAGGACGGCAAGAAGGTGGCCTTCTGCAAATGGGGATGAGTCCTCACCAGGTGTGGGATCTGCCAGCACCTCGATCTTGGGCTTCCCAGCCTCAGTACTGTAAGAAGTAAGTGTCTGTTGTTTAAGCCACCCCATGTAATATAATTTTGTTATAGCAGCCTACATTGATTAAGACAGATGCTAAGAATATGAAGGTGAAGAAATGTCCCAGTACTTCATGGGAACACATCCCAGTGGCTTACAGAATCAAAGATGAAAGAGAGAGGGATACACGTGGTTGCTGGCTCTTCCCTGCTGCTCAGATGCCTGGATCACTTGACTGCCTTCTCTATCAAAGAGTTTCGCTCTTTCACCCAGGCTGGAGTGCAGTGGCACGATCTTGGCTCACTTCAACCTCTGCCTTCCAGTTTCAAGTGATTCTACTGCCTCAGCCTCCCAAGTAGCTGGGATTACAGGCACCCACCACTATGCTCGGCTAATTTTTTTGTATTTTCAATAGTGACAGAGTTTCACCATATTGGCCAGGCTGGTGTCGAACTCCTGACCTCATGATCTGCCCACCTCTGCCTCCCAAAGTGCTGGGATTACAGGCGTGAGCCATCGCGCCCAGCCCATAAGTTTTAGTGCCTTTTTTTCATAGATGCTGAAACTGAAAAAGGGTGTGGTTAAATAATTTGCCCAAGCCAGTCTCTGGCAAAGATGGGATTCATATCCAGCTACTGATGACCAAACATGGTGAGCAGGTATCCTATGTCCCGAGGAAGCCCATTCCACCTGAGCACTGGATGGAAGGGATATCGCAATCACCCCCATGCATGATGGACAGGTCTAGGAGCATTGGACACTCAATGGAAACTCATGCCCCTGTCAGAAATTGGCAACTGCCACTTCCACGGCACTTGCAAACTTTGCACACGGTCCAGATGTGGCCTGGCTTGTTGCTGTCATGGTAGCAATAGTAATTACTTAGGGGATTTCTGCAGATCTTGCTCATATTGTGCATAATAGGGTATAAAATATGGAAAATTTGCCTCTAAAATAAAGTGTTGCTGGCAAA                                                                                                                                                                                                                                                                                                                                                                                                                                                                                                                                                                                                                                                                                                                                                                                                                                                                                                                                                                                                                                                                                                                                                                                                                                                                                                                                                                                                                                                                                                                                                                                                                                                                                                                                                                                                                                                                                                                                                                                                                                                                                                                                                                                                                                                                                                                                                                                                                                                                                                                                                                                                                                                                                                                                                                                                                                                                                                                                                                                                                                                                                                                                                                                                                                                                                                                                                                                                                                                                                                                                                                                                                                                                                                                                                                                                                                                                                                                                                                                                                                                                                                                                                                                                                                                                                                                                                                                                                                                                                                                                                                                                                                                                                                                                                                                                                                                                                  0\n",
            "code_TTTTTTTTTTTTTTTTTTTTTTTTTTGAGTTGGAGTTTTGCTCTTGTTGCCCAGACTGGAGTGCAATGGCATTATCTCAGCTCACTGCAACATCCGCCTCCCGTGTTCAAGCAATTCTCCTGCTTCAGTCTCCGAAGTAGCTGGGATTACAATAGACTGGATTTTATCAAGGAATGTATTTCTTCTAGAAAATAGATACACTTTCAAAGATACGTTAATTTACATGAGAGCTTGCCTGTGTGCACAATAGAAAGCCAAAAATAAAGAGGTTATCATCTAATGGCACAAAGTTTTCTTATTTCATAAGCTTGCATTTTCTTTTCTTATTAAACACCGTCTCACCTTTCTTTTTCAGGAAACACTTTCTGAAAATGTCAGAACTCTTGAAAACATGGATGAGGAAAAGCATAAGTACTGCTTTATGCTTTTCTTATGAATTTTAAAAGATGTAATTTAAAGGAGCTGTCATTTAAATGTGCTTGCCAACTAGCTTGTTTATCAAAACATTCCAGACCCTTTCAAATTCTCATTTACATTGTTTCTTGTTTACCACACCCATAAATTTGTATTACCAGCATATTTAACTATCCGGCTATTTTGGAGATTGAAAAAAGAAGACCTGATTTATCATGTGCAATATCTCACACATCTGTCATTTCTATTCTACCGCAATTCGATGGAGTCTTGTTCTGTGGTCCAGGCTAGAGGGCAGTGGCATGATCTCGGCTCACTACAAGCTCTGCCTCCCGGGTTCACGCCATTCTCCTGCCTCAGCCTCCTGAGTAGCTGGGACTACAGGCGCCCGCCACCACGCCTGGCTAATTTTTTGTATATTTACTAGAGATGGCTAGTGTTAGCCAAGATGGTCTCGATCTCCTGACCTCGTGATCTGCCCACCTCAGCCTGCCAAAGTGCTGGGATTACTGGCGTGAGCCACCGTGCCTGGCCAGCATCCTCTAATTATTATTCATAGTTTGTGAATTTAGGCCTACGTGAATAATAATATAATATTTACTATGATGTTACTATCTACCAACCTTATTTTTCTTTTCTATAAAATAGGAGCCAAAATAATATTTATGTCATACCTTATGAAGTTAAAATAAAATATAACGAATGAGGG                                                                                                                                                                                                                                                                                                                                                                                                                                                                                                                                                                                                                                                                                                                                                                                                                                                                                                                                                                                                                                                                                                                                                                                                                                                                                                                                                                                                                                                                                                                                                                                                                                                                                                                                                                                                                                                                                                                                                                                                                                                                                                                                                                                                                                                                                                                                                                                                                                                                                                                                                                                                                                                                                                                                                                                                                                                                                                                                                                                                                                                                                                                                                                                                                                                                                                                                                                                                                                                                                                                                                                                                                                                                                                                                                                                                                                                                                                                                                                                                                                                                                                                                                                                                                                                                                                                                                                                                                                                                                                                                                                                                                                                                                                                                                                                                                                                                                                                                                                                                                                                                                                                                                                                                                                                                                                                                                                                                                                                                                                                              0\n",
            "code_TTTTTTTTTTTTTTTTTTTTTTTTTTTTTTTGAGACAGGGTCTGTCTCTGTTGCCTAGGCTGGAGTGCACTGGCACCATCTCGGCTGACTGCAACCTCGACCTTCTGGGCTCAAGCCGCCCTGCCACCTCAGCCTCTCAAGTAGCTGGGACTACAAGTCTGCCATCACTATGCCCAGCTAATTTTTGTGTTTTTAGTATAGAGAAAGGGTTTCTCCATGTTGCCCAGGCTGGTCTTGAACTCCTGAGCTCAAATGATCCACCTGCCTCGGCATCCCAAAGTGCTGGGATTAACAGGCCTGAGCTCCCATGCCTGGCCTTTTCTTTCCTATGGTTAGTATTTTTGTGACCTATTTAAGAAATCTTTGCCTGCCCAAGATGTTCATGTTCTTCTGGAAGCCTGTTTTAGCATTCACACTTATGTCTATGGTCCCTCTTGAATTAGTTTTTGTACATGGTGTGAGGCTCAGCCTGACCTCCCTGTATGATGTCTGGGATCCAGGCTACCTGCCTATGCATCCTTCTGGGTATTGGCAGACCCTGGTGATAATACAGCACACCCCTGAGGTGATCCCAAGACTGCCAGGAGGGAGAGGTTATCCATGGAGCTCAGCATCATTTATTGACTTAATTCCTACCATGGTGCTTGGCTGTGGGAGAAGCAGAAAATGCCCTGGACAGCCTTCACCAGGAGCAGCTGCTATTGGAAGAACTTTACTTAACCCTTCAAATCTCATTCCTACACCTGCATAGGCCAAGAGGCCCTCCCCAAATCCTCAGTTCCTGGCCCTCAGGGCTTTGCCCATGAACTCTGTGCAGCTGCTCCTGGACCATGGTGCTGATCCTAACCAGCGAGATGGGCTGGGGAACACGCCACTGCACCTGGCGGCCTGCACCAACCACGTTCCTGTCATCACCACACTGCTACGAGGAGGTATGTGGTTTCTTCCCCTCTCTGTCCTCTTTCTCCCCCTCACCCCCAGAATGCTCACCTCAGCTGGTACCTGCAGGGGCCCGTGTAGATGCCCTGGACCGAGCTGGTCGCACACCCCTGCACCTGGCCAAGTCAAAGCTGAATATCCTGCAGGAGGGCCATGCCCAGTGCCTAGAGGCTGTGCGTCTGGAGGTGAAGCAGATCATCCATATGCTGAGGGAGTATCTGGAGCGCCTAGGGCAACATGAGCAGCGAGAACGCCTGGATGACCTCTGCACCCGCCTGCAGATGACCAGTACCAAAGAGCAGGTGGATGAAGTGACTGACCTCCTGGCCAGCTTCACCTCCCTCAGTCTGCAGATGCAGAGCATGGAGAAGAGGTAGCAAGAGAGGCTCCCTGCCTTCCTGCCACTGCCCCACCCTGCCCCACTGCTGTCTCAGTACCAAGAAAAAGCCCAACATCTGGGACTTGGAGCTGCACTTGTCTGGTGAGGACCTTGCCCTCACCCGCAGATGCCGTGGGGCAGAGATGCTCTCTCTCCACGGCCTCAGAGCCACTCCCAGCCACAGTTTCCAGCATCTCTGTGGACAGGGACCACAGCTCCCAGCTTCTTCCAGTTCTCGCAGCACCAGACCAGCCTCTGCAGCTGCACTTCAGCTCCGCAGACCTGCGCTATCTCAGCAGACCTCACTTGCCCCATGGCCTTCATGGCGCGCTCCAGGCCTCAGACCCTTCTCTGTGTTCCGTCCTGGCCATGGGCTTGTTGCAGTCAGCAGGTGTGGGCTTAGGCGGGCACCCTGTGGCCAGGGGTACTGCGTGAGGCCCTCAGTTGGTCCTGTGCCTCTCACCAGCACTTAGACAGACACGTCACCAGACTTTCAAGGAGATACTGCAGTGAGTTTCTCTGGTTGGAAGGGGAGGGTTGGTGAGTCCCAGACCTTAAAAATACAAGGTTAAGAGGGACCCCAAAGCAAAAAATTCCAACCCTTTTCCTCCCAGTCATTGAAACACCAAAACTATTATACCGGAGGGTGTAATAGTTTTGCTGCCCAGTTGTGGTAGGCCAGTAGTGGCCTCCCAAGATGCCCATGTCCTAATCCCAGGAACCTGTCAAAATTACCTTGTATGGCCAAAGGGGCTTTGCAGATGTAATGAAGTTAAGGATCTTTCGCCAGGAAGATTATCCCAGCTTGTTCAGGAGGGCTTGATGTCCTCACCCGGGTCTGTATAACAGAAGAGCAGGTGACGGGAGAGGAGGTTGGAGGTGTAGCGATGGAGCAGGAAACTGGAGTTGAGGAGGGCAGCTCAAGCCACAGAGTCCAGGCCACCTCAGAGCCAGGAAATGCATCCTCCCACAGAGCCCTGGAAGGCCCCAGCCCTGCTCCCACCTGGACTGGCTCAGTGAGGCTAATTTTATAATTCTGGCTGATTTTAGAACTCTAAGGGAATAAATTTGTGTTGTTTTAAGTC                                                                                                                                                                                                                                                                                                                                                                                                                                                                                                                                                                                                                                                                                                                                                                                                                                                                                                                                                                                                                                                                                                                                                                                                                                                                                                                                                                                                                                                                                                                                                                                                                                                                                                                                                                                                                                                                                                                                                                                                                                                                                                                                                                                                                                                                                                                                                                                                                                                                                                                                                                                                                                                                                                                                                                                                                                                                                                                                                                                                                                                                                                                                                                                                                                                                                                                                                                                                                                                                                                                                                                                                                                                                                                                                                                                                                                                                                                                                                                                                                                                                                                                                                                                              0\n",
            "Length: 31311, dtype: int64\n"
          ]
        }
      ]
    },
    {
      "cell_type": "code",
      "source": [
        "# Drop rows with missing values in training features\n",
        "X_train = X_train.dropna()\n",
        "y_train = y_train[X_train.index]  # Align y_train with X_train after dropping rows\n",
        "\n",
        "# Drop rows with missing values in testing features\n",
        "X_test = X_test.dropna()\n",
        "y_test = y_test[X_test.index]  # Align y_test with X_test after dropping rows"
      ],
      "metadata": {
        "id": "JOrWobZ5nVuC"
      },
      "execution_count": null,
      "outputs": []
    },
    {
      "cell_type": "code",
      "source": [
        "from sklearn.impute import SimpleImputer\n",
        "\n",
        "# Create an imputer object with a mean filling strategy\n",
        "imputer = SimpleImputer(strategy='mean')\n",
        "\n",
        "# Fit the imputer on the training data and transform both training and testing data\n",
        "X_train = imputer.fit_transform(X_train)\n",
        "X_test = imputer.transform(X_test)  # Use the same imputer for test data"
      ],
      "metadata": {
        "id": "wmIuGPOBndIF"
      },
      "execution_count": null,
      "outputs": []
    },
    {
      "cell_type": "code",
      "source": [
        "# Step 5: Train AdaBoost model\n",
        "adaboost_model.fit(X_train, y_train)\n",
        "\n",
        "# Step 6: Predict on the test set\n",
        "y_pred = adaboost_model.predict(X_test)\n",
        "\n",
        "# Step 7: Print evaluation metrics\n",
        "print(\"Accuracy:\", accuracy_score(y_test, y_pred))\n",
        "print(\"Classification Report:\\n\", classification_report(y_test, y_pred))"
      ],
      "metadata": {
        "colab": {
          "base_uri": "https://localhost:8080/"
        },
        "id": "QHphqkCTnxWV",
        "outputId": "7aeb7aa4-9d4c-4874-9165-e9d9774ee859"
      },
      "execution_count": null,
      "outputs": [
        {
          "output_type": "stream",
          "name": "stderr",
          "text": [
            "/usr/local/lib/python3.10/dist-packages/sklearn/ensemble/_weight_boosting.py:527: FutureWarning: The SAMME.R algorithm (the default) is deprecated and will be removed in 1.6. Use the SAMME algorithm to circumvent this warning.\n",
            "  warnings.warn(\n"
          ]
        },
        {
          "output_type": "stream",
          "name": "stdout",
          "text": [
            "Accuracy: 0.17205009887936717\n",
            "Classification Report:\n",
            "               precision    recall  f1-score   support\n",
            "\n",
            "           0       0.17      1.00      0.29       522\n",
            "           1       0.00      0.00      0.00       432\n",
            "           2       0.00      0.00      0.00      2080\n",
            "\n",
            "    accuracy                           0.17      3034\n",
            "   macro avg       0.06      0.33      0.10      3034\n",
            "weighted avg       0.03      0.17      0.05      3034\n",
            "\n"
          ]
        },
        {
          "output_type": "stream",
          "name": "stderr",
          "text": [
            "/usr/local/lib/python3.10/dist-packages/sklearn/metrics/_classification.py:1531: UndefinedMetricWarning: Precision is ill-defined and being set to 0.0 in labels with no predicted samples. Use `zero_division` parameter to control this behavior.\n",
            "  _warn_prf(average, modifier, f\"{metric.capitalize()} is\", len(result))\n",
            "/usr/local/lib/python3.10/dist-packages/sklearn/metrics/_classification.py:1531: UndefinedMetricWarning: Precision is ill-defined and being set to 0.0 in labels with no predicted samples. Use `zero_division` parameter to control this behavior.\n",
            "  _warn_prf(average, modifier, f\"{metric.capitalize()} is\", len(result))\n",
            "/usr/local/lib/python3.10/dist-packages/sklearn/metrics/_classification.py:1531: UndefinedMetricWarning: Precision is ill-defined and being set to 0.0 in labels with no predicted samples. Use `zero_division` parameter to control this behavior.\n",
            "  _warn_prf(average, modifier, f\"{metric.capitalize()} is\", len(result))\n"
          ]
        }
      ]
    }
  ]
}